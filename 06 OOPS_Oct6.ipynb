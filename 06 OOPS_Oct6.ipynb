{
 "cells": [
  {
   "cell_type": "code",
   "execution_count": 1,
   "id": "2100faba-87e0-432f-b81a-cf49dce2f401",
   "metadata": {},
   "outputs": [],
   "source": [
    "class Employee:\n",
    "    pass"
   ]
  },
  {
   "cell_type": "code",
   "execution_count": 3,
   "id": "25a891a0-b1a7-4ba0-8d68-82211e629f6f",
   "metadata": {},
   "outputs": [],
   "source": [
    "emp1 = Employee()   # instance of a class\n",
    "emp2 = Employee()"
   ]
  },
  {
   "cell_type": "code",
   "execution_count": 5,
   "id": "acca2664-7de2-4ce3-b5ce-5161f90079ed",
   "metadata": {},
   "outputs": [
    {
     "name": "stdout",
     "output_type": "stream",
     "text": [
      "<__main__.Employee object at 0x7bb8217b04d0>\n"
     ]
    }
   ],
   "source": [
    "print(emp1)"
   ]
  },
  {
   "cell_type": "code",
   "execution_count": 7,
   "id": "520c28af-c9c8-488d-bd6d-7d95c5b002ca",
   "metadata": {},
   "outputs": [
    {
     "name": "stdout",
     "output_type": "stream",
     "text": [
      "<__main__.Employee object at 0x7bb8217b0390>\n"
     ]
    }
   ],
   "source": [
    "print(emp2)"
   ]
  },
  {
   "cell_type": "code",
   "execution_count": 9,
   "id": "09d289b7-5034-4422-a7f1-285568e97610",
   "metadata": {},
   "outputs": [],
   "source": [
    "emp1.first = 'Riya'   # instance variables (attributes)\n",
    "emp1.last = 'Banerji'\n",
    "emp1.sal = 51000"
   ]
  },
  {
   "cell_type": "code",
   "execution_count": 11,
   "id": "b881e9c2-71b9-411e-bdd8-6373dd356e9c",
   "metadata": {},
   "outputs": [],
   "source": [
    "emp2.first = 'Natasha'\n",
    "emp2.last = 'Sharma'\n",
    "emp2.sal = 52000"
   ]
  },
  {
   "cell_type": "code",
   "execution_count": 13,
   "id": "e5098caf-ede0-4a14-84a9-10fb500031f5",
   "metadata": {},
   "outputs": [
    {
     "name": "stdout",
     "output_type": "stream",
     "text": [
      "Banerji\n"
     ]
    }
   ],
   "source": [
    "print(emp1.last)"
   ]
  },
  {
   "cell_type": "code",
   "execution_count": 15,
   "id": "92fbe60e-6b11-446f-b8b0-4118ae43452c",
   "metadata": {},
   "outputs": [
    {
     "data": {
      "text/plain": [
       "52000"
      ]
     },
     "execution_count": 15,
     "metadata": {},
     "output_type": "execute_result"
    }
   ],
   "source": [
    "emp2.sal"
   ]
  },
  {
   "cell_type": "code",
   "execution_count": 29,
   "id": "a29969b5-405f-404e-8c00-b6e07025d678",
   "metadata": {},
   "outputs": [],
   "source": [
    "class Employee:\n",
    "\n",
    "    def __init__ (self, first, last, sal):\n",
    "        self.first = first\n",
    "        self.last = last\n",
    "        self.sal = sal\n",
    "\n",
    "    def yrsal(self):\n",
    "        s = self.sal * 12\n",
    "        return s"
   ]
  },
  {
   "cell_type": "code",
   "execution_count": 31,
   "id": "a0caa0c0-7e0b-461b-bdb9-695fcf6819e7",
   "metadata": {},
   "outputs": [],
   "source": [
    "emp1 = Employee('Riya', 'Banerjee', 51000)"
   ]
  },
  {
   "cell_type": "code",
   "execution_count": 33,
   "id": "d12553e8-4496-46d0-870e-935396a128f2",
   "metadata": {},
   "outputs": [
    {
     "name": "stdout",
     "output_type": "stream",
     "text": [
      "51000\n"
     ]
    }
   ],
   "source": [
    "print(emp1.sal)"
   ]
  },
  {
   "cell_type": "code",
   "execution_count": 35,
   "id": "10d54b29-a68f-4db0-9d35-c3a673edc1c5",
   "metadata": {},
   "outputs": [],
   "source": [
    "emp2 = Employee('Natasha', 'Sharma', 52000)"
   ]
  },
  {
   "cell_type": "code",
   "execution_count": 37,
   "id": "b438790a-1686-4310-af25-b53b56d83f16",
   "metadata": {},
   "outputs": [
    {
     "name": "stdout",
     "output_type": "stream",
     "text": [
      "Natasha\n"
     ]
    }
   ],
   "source": [
    "print(emp2.first)"
   ]
  },
  {
   "cell_type": "code",
   "execution_count": 41,
   "id": "21bf548b-09dc-44a2-a51a-1165ccbee397",
   "metadata": {},
   "outputs": [],
   "source": [
    "# help(Employee)"
   ]
  },
  {
   "cell_type": "code",
   "execution_count": 43,
   "id": "e02ae6b3-1535-43bd-8363-50204ce35c22",
   "metadata": {},
   "outputs": [
    {
     "data": {
      "text/plain": [
       "612000"
      ]
     },
     "execution_count": 43,
     "metadata": {},
     "output_type": "execute_result"
    }
   ],
   "source": [
    "emp1.yrsal()"
   ]
  },
  {
   "cell_type": "code",
   "execution_count": 45,
   "id": "f38b940a-d2c8-4f0f-83ac-d8dba217b1a8",
   "metadata": {},
   "outputs": [
    {
     "data": {
      "text/plain": [
       "624000"
      ]
     },
     "execution_count": 45,
     "metadata": {},
     "output_type": "execute_result"
    }
   ],
   "source": [
    "emp2.yrsal()"
   ]
  },
  {
   "cell_type": "markdown",
   "id": "44619dcc-81ad-48e7-80f5-4dcd18323506",
   "metadata": {},
   "source": [
    "# Encapsulation"
   ]
  },
  {
   "cell_type": "code",
   "execution_count": 48,
   "id": "b45b27d2-ae70-40f2-9883-92bb8185d153",
   "metadata": {},
   "outputs": [],
   "source": [
    "# we make public variable => private variable"
   ]
  },
  {
   "cell_type": "code",
   "execution_count": 68,
   "id": "a1a23bbc-b1fd-4632-af4d-eb3b5450c149",
   "metadata": {},
   "outputs": [],
   "source": [
    "class Employee:\n",
    "\n",
    "    def __init__ (self, first, last, sal):\n",
    "        self.first = first\n",
    "        self.last = last\n",
    "        self.__sal = sal    # private variable\n",
    "\n",
    "    def showsal(self):\n",
    "        return f\"salary is {self.__sal}\""
   ]
  },
  {
   "cell_type": "code",
   "execution_count": 70,
   "id": "83738831-b6dd-4171-bbc8-21b95299c2e5",
   "metadata": {},
   "outputs": [],
   "source": [
    "emp1 = Employee('Riya', 'Banerjee', 51000)\n",
    "emp2 = Employee('Natasha', 'Sharma', 52000)"
   ]
  },
  {
   "cell_type": "code",
   "execution_count": 72,
   "id": "e93eae56-7c6f-41de-b7a8-6b62e8bc146a",
   "metadata": {},
   "outputs": [
    {
     "data": {
      "text/plain": [
       "'Riya'"
      ]
     },
     "execution_count": 72,
     "metadata": {},
     "output_type": "execute_result"
    }
   ],
   "source": [
    "emp1.first"
   ]
  },
  {
   "cell_type": "code",
   "execution_count": 74,
   "id": "ca11c9c8-9060-4063-bd2d-d81ee6512392",
   "metadata": {},
   "outputs": [
    {
     "ename": "AttributeError",
     "evalue": "'Employee' object has no attribute 'sal'",
     "output_type": "error",
     "traceback": [
      "\u001b[0;31m---------------------------------------------------------------------------\u001b[0m",
      "\u001b[0;31mAttributeError\u001b[0m                            Traceback (most recent call last)",
      "Cell \u001b[0;32mIn[74], line 1\u001b[0m\n\u001b[0;32m----> 1\u001b[0m emp1\u001b[38;5;241m.\u001b[39msal\n",
      "\u001b[0;31mAttributeError\u001b[0m: 'Employee' object has no attribute 'sal'"
     ]
    }
   ],
   "source": [
    "emp1.sal"
   ]
  },
  {
   "cell_type": "code",
   "execution_count": 76,
   "id": "920585e9-ca39-45f0-b1eb-7b0c0061549c",
   "metadata": {},
   "outputs": [
    {
     "data": {
      "text/plain": [
       "'salary is 51000'"
      ]
     },
     "execution_count": 76,
     "metadata": {},
     "output_type": "execute_result"
    }
   ],
   "source": [
    "emp1.showsal()"
   ]
  },
  {
   "cell_type": "code",
   "execution_count": 80,
   "id": "723683ac-45e2-420e-85ff-9f72b9d48e3c",
   "metadata": {},
   "outputs": [],
   "source": [
    "\"\"\"\n",
    "create a class called Person\n",
    "objects having attributes name, age, city, hobby (3 objects)\n",
    "make city a private variable\n",
    "create a method which will show all the info upon calling\n",
    "\"\"\";"
   ]
  },
  {
   "cell_type": "code",
   "execution_count": 98,
   "id": "d1fbb316-eb79-4c98-adcc-12989dc94ee6",
   "metadata": {},
   "outputs": [],
   "source": [
    "class Person:\n",
    "\n",
    "    def __init__ (self, name, age, city, hobby):\n",
    "        self.name = name\n",
    "        self.age = age\n",
    "        self.__city = city\n",
    "        self.hobby = hobby\n",
    "\n",
    "    def info(self):\n",
    "        return f\"{self.name} {self.age} {self.__city} {self.hobby}\""
   ]
  },
  {
   "cell_type": "code",
   "execution_count": 100,
   "id": "c1ac3c07-661c-40d8-ac3a-5452c8307df2",
   "metadata": {},
   "outputs": [],
   "source": [
    "p1 = Person('Sanjeev', 24, 'Nasik', 'reading')"
   ]
  },
  {
   "cell_type": "code",
   "execution_count": 102,
   "id": "343d180d-9178-4f3e-9eb6-4f0a45df6c18",
   "metadata": {},
   "outputs": [
    {
     "data": {
      "text/plain": [
       "'Sanjeev 24 Nasik reading'"
      ]
     },
     "execution_count": 102,
     "metadata": {},
     "output_type": "execute_result"
    }
   ],
   "source": [
    "p1.info()"
   ]
  },
  {
   "cell_type": "markdown",
   "id": "7a057230-a5eb-4a50-8562-aa9ebe1d302d",
   "metadata": {},
   "source": [
    "# Inheritance"
   ]
  },
  {
   "cell_type": "code",
   "execution_count": 105,
   "id": "2de3f8b6-755b-4b6b-95b6-cc65b79e4a5d",
   "metadata": {},
   "outputs": [],
   "source": [
    "class Person:\n",
    "    insti = 'MITU'  # class variable # for every object\n",
    "\n",
    "    def __init__ (self, age, ht):\n",
    "        self.age = age\n",
    "        self.ht = ht\n",
    "\n",
    "    def show(self):\n",
    "        print('age:',self.age, 'height:', self.ht,'and', self.insti)"
   ]
  },
  {
   "cell_type": "code",
   "execution_count": 109,
   "id": "058ea8b4-502d-4a9a-999b-d33e3060f769",
   "metadata": {},
   "outputs": [],
   "source": [
    "p1 = Person(20, 5.7)"
   ]
  },
  {
   "cell_type": "code",
   "execution_count": 111,
   "id": "b024ab86-a362-4604-9df2-f3658a758e34",
   "metadata": {},
   "outputs": [
    {
     "name": "stdout",
     "output_type": "stream",
     "text": [
      "age: 20 height: 5.7 and MITU\n"
     ]
    }
   ],
   "source": [
    "p1.show()"
   ]
  },
  {
   "cell_type": "code",
   "execution_count": 117,
   "id": "63013597-bafd-4473-92ec-d64237deae27",
   "metadata": {},
   "outputs": [],
   "source": [
    "class Aditya(Person):\n",
    "    pass"
   ]
  },
  {
   "cell_type": "code",
   "execution_count": 119,
   "id": "873355ac-9eb2-421b-b146-353bf8cf2286",
   "metadata": {},
   "outputs": [],
   "source": [
    "a1 = Aditya(26, 6)"
   ]
  },
  {
   "cell_type": "code",
   "execution_count": 121,
   "id": "486bb9dc-baa6-4b0f-bc7f-bc0a68ef284c",
   "metadata": {},
   "outputs": [
    {
     "name": "stdout",
     "output_type": "stream",
     "text": [
      "age: 26 height: 6 and MITU\n"
     ]
    }
   ],
   "source": [
    "a1.show()"
   ]
  },
  {
   "cell_type": "markdown",
   "id": "6fc673a1-b779-4c89-9f57-bd717b5df827",
   "metadata": {},
   "source": [
    "# Polymorphism"
   ]
  },
  {
   "cell_type": "code",
   "execution_count": 124,
   "id": "21dc9963-4cb7-4e62-a86c-2bfb8eeb5014",
   "metadata": {},
   "outputs": [],
   "source": [
    "# allows objects of different classes to e treated as\n",
    "# object of common species\n",
    "# done with method overriding"
   ]
  },
  {
   "cell_type": "code",
   "execution_count": 126,
   "id": "dd64427d-df86-4d3d-bf8a-ae6b0d9443af",
   "metadata": {},
   "outputs": [],
   "source": [
    "# base class\n",
    "\n",
    "class Animal:\n",
    "    def sound(self):\n",
    "        return 'sound of an animal'"
   ]
  },
  {
   "cell_type": "code",
   "execution_count": 132,
   "id": "97f77501-77aa-4b86-8ea8-d1d197496bdf",
   "metadata": {},
   "outputs": [],
   "source": [
    "# child class/ derived classes\n",
    "\n",
    "class Sparrow(Animal):\n",
    "    def sound(self):\n",
    "        return 'choo choo'\n",
    "\n",
    "class Dog(Animal):\n",
    "    def sound(self):\n",
    "        return 'woof woof'"
   ]
  },
  {
   "cell_type": "code",
   "execution_count": 130,
   "id": "cd71f6fc-ce67-492b-8a65-9d7650c29357",
   "metadata": {},
   "outputs": [],
   "source": [
    "# function to demonstrate polymorphism\n",
    "\n",
    "def an_speech(a):    # passing object as parameter\n",
    "    print(animal.sound())"
   ]
  },
  {
   "cell_type": "code",
   "execution_count": 134,
   "id": "118c0274-a9fc-453f-a4d7-4481640e60a7",
   "metadata": {},
   "outputs": [],
   "source": [
    "s1 = Sparrow()\n",
    "d1 = Dog()"
   ]
  },
  {
   "cell_type": "code",
   "execution_count": 136,
   "id": "02c8518c-7f7c-40d5-8f63-d74406fae0ca",
   "metadata": {},
   "outputs": [
    {
     "name": "stdout",
     "output_type": "stream",
     "text": [
      "choo choo\n"
     ]
    }
   ],
   "source": [
    "an_speech(s1)"
   ]
  },
  {
   "cell_type": "code",
   "execution_count": 138,
   "id": "00490024-1965-43d7-8933-73578a67db39",
   "metadata": {},
   "outputs": [
    {
     "name": "stdout",
     "output_type": "stream",
     "text": [
      "woof woof\n"
     ]
    }
   ],
   "source": [
    "an_speech(d1)"
   ]
  },
  {
   "cell_type": "code",
   "execution_count": null,
   "id": "a8098a20-83c8-4752-88ac-c67a6aa2d45d",
   "metadata": {},
   "outputs": [],
   "source": []
  },
  {
   "cell_type": "markdown",
   "id": "2dabba5f-82c8-4b4b-b5e9-d301b7c78cb5",
   "metadata": {},
   "source": [
    "#### str"
   ]
  },
  {
   "cell_type": "code",
   "execution_count": 154,
   "id": "56402752-4dca-410e-ac14-46a81293937b",
   "metadata": {},
   "outputs": [],
   "source": [
    "# __str__ => string representation of an object"
   ]
  },
  {
   "cell_type": "code",
   "execution_count": 174,
   "id": "972d7921-5215-4e52-930b-12e1f9846f76",
   "metadata": {},
   "outputs": [],
   "source": [
    "class Person:\n",
    "    insti = 'MITU'  # class variable # for every object\n",
    "\n",
    "    def __init__ (self, age, ht):\n",
    "        self.age = age\n",
    "        self.ht = ht\n",
    "\n",
    "    def __str__ (self):\n",
    "        return f\"age: {self.age} ht: {self.ht}\""
   ]
  },
  {
   "cell_type": "code",
   "execution_count": 176,
   "id": "8ccb8b52-b6d5-4627-82fb-f7cb601cf6f7",
   "metadata": {},
   "outputs": [],
   "source": [
    "dir(Person);"
   ]
  },
  {
   "cell_type": "code",
   "execution_count": 178,
   "id": "195ce418-d0a7-4f40-8ffa-0c421e02def7",
   "metadata": {},
   "outputs": [],
   "source": [
    "o1 = Person(23, 5.5)"
   ]
  },
  {
   "cell_type": "code",
   "execution_count": 180,
   "id": "2d54700d-d466-4ce1-9233-ba3a5b5625bf",
   "metadata": {},
   "outputs": [
    {
     "name": "stdout",
     "output_type": "stream",
     "text": [
      "age: 23 ht: 5.5\n"
     ]
    }
   ],
   "source": [
    "print(o1)"
   ]
  },
  {
   "cell_type": "code",
   "execution_count": null,
   "id": "c69626f4-62f9-49e5-ad27-62943cf6cfae",
   "metadata": {},
   "outputs": [],
   "source": []
  }
 ],
 "metadata": {
  "kernelspec": {
   "display_name": "Python 3 (ipykernel)",
   "language": "python",
   "name": "python3"
  },
  "language_info": {
   "codemirror_mode": {
    "name": "ipython",
    "version": 3
   },
   "file_extension": ".py",
   "mimetype": "text/x-python",
   "name": "python",
   "nbconvert_exporter": "python",
   "pygments_lexer": "ipython3",
   "version": "3.11.9"
  }
 },
 "nbformat": 4,
 "nbformat_minor": 5
}

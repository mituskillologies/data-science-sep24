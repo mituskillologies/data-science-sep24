{
 "cells": [
  {
   "cell_type": "markdown",
   "id": "2bcb3593-8a15-41f3-a8ab-06f50766776b",
   "metadata": {},
   "source": [
    "# List"
   ]
  },
  {
   "cell_type": "code",
   "execution_count": 3,
   "id": "24789485-c083-434a-9a0f-717665ee3868",
   "metadata": {},
   "outputs": [],
   "source": [
    "l = [23, 56, 43, 12, 70]"
   ]
  },
  {
   "cell_type": "code",
   "execution_count": 5,
   "id": "e4542ec5-9b88-4d6f-9652-80643de8ec83",
   "metadata": {},
   "outputs": [
    {
     "name": "stdout",
     "output_type": "stream",
     "text": [
      "[23, 56, 43, 12, 70]\n"
     ]
    }
   ],
   "source": [
    "print(l)"
   ]
  },
  {
   "cell_type": "code",
   "execution_count": 7,
   "id": "39353026-065b-4b9b-a88c-73064be864db",
   "metadata": {},
   "outputs": [
    {
     "data": {
      "text/plain": [
       "list"
      ]
     },
     "execution_count": 7,
     "metadata": {},
     "output_type": "execute_result"
    }
   ],
   "source": [
    "type(l)"
   ]
  },
  {
   "cell_type": "code",
   "execution_count": 9,
   "id": "97a60d36-afaf-46d1-b53c-cda1b19dde45",
   "metadata": {},
   "outputs": [],
   "source": [
    "l = [12, 34, 67.89, 'Adi', False]"
   ]
  },
  {
   "cell_type": "code",
   "execution_count": 11,
   "id": "e8a6ca69-c802-44ee-b881-d512e2b3933d",
   "metadata": {},
   "outputs": [
    {
     "data": {
      "text/plain": [
       "[12, 34, 67.89, 'Adi', False]"
      ]
     },
     "execution_count": 11,
     "metadata": {},
     "output_type": "execute_result"
    }
   ],
   "source": [
    "l # hetero"
   ]
  },
  {
   "cell_type": "code",
   "execution_count": 13,
   "id": "9a5c55ce-f874-4b19-8602-0624c5fecded",
   "metadata": {},
   "outputs": [],
   "source": [
    "l = [12, 12, 67, 12]"
   ]
  },
  {
   "cell_type": "code",
   "execution_count": 15,
   "id": "65a13d1e-2a99-4088-947b-37482b5adc1c",
   "metadata": {},
   "outputs": [
    {
     "data": {
      "text/plain": [
       "[12, 12, 67, 12]"
      ]
     },
     "execution_count": 15,
     "metadata": {},
     "output_type": "execute_result"
    }
   ],
   "source": [
    "l  # duplicates are allowed"
   ]
  },
  {
   "cell_type": "code",
   "execution_count": 17,
   "id": "1a61f8e0-e597-4c83-bb40-a6372c0e242c",
   "metadata": {},
   "outputs": [],
   "source": [
    "l = [12, 23, 34, 56, 89]"
   ]
  },
  {
   "cell_type": "code",
   "execution_count": 19,
   "id": "afa27408-cae0-4ac2-b5c9-6a11a574097a",
   "metadata": {},
   "outputs": [
    {
     "data": {
      "text/plain": [
       "[12, 23, 34, 56, 89]"
      ]
     },
     "execution_count": 19,
     "metadata": {},
     "output_type": "execute_result"
    }
   ],
   "source": [
    "l"
   ]
  },
  {
   "cell_type": "markdown",
   "id": "cc13668e-17b8-4ec1-9f3d-e7ae35afd029",
   "metadata": {},
   "source": [
    "#### access an element"
   ]
  },
  {
   "cell_type": "code",
   "execution_count": 22,
   "id": "b6674b34-5348-4e87-96a5-0f735a73cd2e",
   "metadata": {},
   "outputs": [
    {
     "data": {
      "text/plain": [
       "34"
      ]
     },
     "execution_count": 22,
     "metadata": {},
     "output_type": "execute_result"
    }
   ],
   "source": [
    "l[2]"
   ]
  },
  {
   "cell_type": "code",
   "execution_count": 24,
   "id": "4cd21f19-862b-44c4-a98f-7ba8fc7fe7f7",
   "metadata": {},
   "outputs": [
    {
     "data": {
      "text/plain": [
       "89"
      ]
     },
     "execution_count": 24,
     "metadata": {},
     "output_type": "execute_result"
    }
   ],
   "source": [
    "l[4]"
   ]
  },
  {
   "cell_type": "code",
   "execution_count": 26,
   "id": "77edf443-a23b-4622-839f-03bd241a8a10",
   "metadata": {},
   "outputs": [
    {
     "data": {
      "text/plain": [
       "89"
      ]
     },
     "execution_count": 26,
     "metadata": {},
     "output_type": "execute_result"
    }
   ],
   "source": [
    "l[-1]"
   ]
  },
  {
   "cell_type": "markdown",
   "id": "b3721c0b-4615-4eae-8c20-6b5c4eaf42c3",
   "metadata": {},
   "source": [
    "#### replace the data"
   ]
  },
  {
   "cell_type": "code",
   "execution_count": 29,
   "id": "daf5c769-3488-4755-ab5c-b58d04acf6dc",
   "metadata": {},
   "outputs": [],
   "source": [
    "l[2] = 100"
   ]
  },
  {
   "cell_type": "code",
   "execution_count": 31,
   "id": "2c7228b9-f580-4f2f-8780-a9103c04197f",
   "metadata": {},
   "outputs": [
    {
     "data": {
      "text/plain": [
       "[12, 23, 100, 56, 89]"
      ]
     },
     "execution_count": 31,
     "metadata": {},
     "output_type": "execute_result"
    }
   ],
   "source": [
    "l"
   ]
  },
  {
   "cell_type": "code",
   "execution_count": 33,
   "id": "8dc39b76-e5b9-4846-a3f1-0724be263658",
   "metadata": {},
   "outputs": [],
   "source": [
    "l[-2] = 555"
   ]
  },
  {
   "cell_type": "code",
   "execution_count": 35,
   "id": "c7d17fc1-d9be-414a-84c5-0762784e9ea2",
   "metadata": {},
   "outputs": [
    {
     "data": {
      "text/plain": [
       "[12, 23, 100, 555, 89]"
      ]
     },
     "execution_count": 35,
     "metadata": {},
     "output_type": "execute_result"
    }
   ],
   "source": [
    "l"
   ]
  },
  {
   "cell_type": "markdown",
   "id": "e034514a-0b4f-41bf-b39b-ebe4687ad6f5",
   "metadata": {},
   "source": [
    "#### Slicing"
   ]
  },
  {
   "cell_type": "code",
   "execution_count": 38,
   "id": "24535dea-fb2d-468a-b867-a6d2c33afbd6",
   "metadata": {},
   "outputs": [
    {
     "data": {
      "text/plain": [
       "[23, 100, 555]"
      ]
     },
     "execution_count": 38,
     "metadata": {},
     "output_type": "execute_result"
    }
   ],
   "source": [
    "l[1:4]"
   ]
  },
  {
   "cell_type": "code",
   "execution_count": 42,
   "id": "0de56669-c7ea-4a2f-8abd-8241ba0a811d",
   "metadata": {},
   "outputs": [
    {
     "data": {
      "text/plain": [
       "[12, 23, 100, 555]"
      ]
     },
     "execution_count": 42,
     "metadata": {},
     "output_type": "execute_result"
    }
   ],
   "source": [
    "l[0:4]"
   ]
  },
  {
   "cell_type": "code",
   "execution_count": 44,
   "id": "bc9a4cb4-d9eb-4fb8-8a48-70495f5e9d8a",
   "metadata": {},
   "outputs": [
    {
     "data": {
      "text/plain": [
       "[12, 23, 100, 555]"
      ]
     },
     "execution_count": 44,
     "metadata": {},
     "output_type": "execute_result"
    }
   ],
   "source": [
    "l[:4]"
   ]
  },
  {
   "cell_type": "code",
   "execution_count": 46,
   "id": "8087bdc5-dc07-47a1-9dde-5ceb99382b6d",
   "metadata": {},
   "outputs": [
    {
     "data": {
      "text/plain": [
       "[12, 100, 89]"
      ]
     },
     "execution_count": 46,
     "metadata": {},
     "output_type": "execute_result"
    }
   ],
   "source": [
    "l[0:5:2]"
   ]
  },
  {
   "cell_type": "code",
   "execution_count": 48,
   "id": "53142772-00df-42ac-96ed-461df8ddd68e",
   "metadata": {},
   "outputs": [
    {
     "data": {
      "text/plain": [
       "[12, 23, 100, 555, 89]"
      ]
     },
     "execution_count": 48,
     "metadata": {},
     "output_type": "execute_result"
    }
   ],
   "source": [
    "l"
   ]
  },
  {
   "cell_type": "markdown",
   "id": "1731ef5e-9b7e-4c40-b446-62560f2702ec",
   "metadata": {},
   "source": [
    "#### replace with slice"
   ]
  },
  {
   "cell_type": "code",
   "execution_count": 51,
   "id": "98a469d7-1047-4ff1-9c39-e6d137781773",
   "metadata": {},
   "outputs": [
    {
     "data": {
      "text/plain": [
       "[23, 100, 555]"
      ]
     },
     "execution_count": 51,
     "metadata": {},
     "output_type": "execute_result"
    }
   ],
   "source": [
    "l[1:4]"
   ]
  },
  {
   "cell_type": "code",
   "execution_count": 53,
   "id": "435e2db7-d2cf-4eff-a3e5-87bfaf3f2c8b",
   "metadata": {},
   "outputs": [],
   "source": [
    "l[1:4] = 1000, 2000, 3000"
   ]
  },
  {
   "cell_type": "code",
   "execution_count": 55,
   "id": "26e4d57c-c455-46a1-a019-8a5fa87f38b7",
   "metadata": {},
   "outputs": [
    {
     "data": {
      "text/plain": [
       "[12, 1000, 2000, 3000, 89]"
      ]
     },
     "execution_count": 55,
     "metadata": {},
     "output_type": "execute_result"
    }
   ],
   "source": [
    "l"
   ]
  },
  {
   "cell_type": "markdown",
   "id": "9ef5b534-dbe5-421c-9bd3-1813dfd4bd86",
   "metadata": {},
   "source": [
    "#### Delete "
   ]
  },
  {
   "cell_type": "code",
   "execution_count": 58,
   "id": "4de7252b-5cba-4507-bd00-cd7f293aa3c8",
   "metadata": {},
   "outputs": [],
   "source": [
    "del l[2]"
   ]
  },
  {
   "cell_type": "code",
   "execution_count": 60,
   "id": "8f5810a4-5e8a-4e2a-b6d1-9a726ed8cc2b",
   "metadata": {},
   "outputs": [
    {
     "data": {
      "text/plain": [
       "[12, 1000, 3000, 89]"
      ]
     },
     "execution_count": 60,
     "metadata": {},
     "output_type": "execute_result"
    }
   ],
   "source": [
    "l"
   ]
  },
  {
   "cell_type": "code",
   "execution_count": 62,
   "id": "5e6a68c0-7954-4cf4-a344-07345c243597",
   "metadata": {},
   "outputs": [],
   "source": [
    "del l"
   ]
  },
  {
   "cell_type": "code",
   "execution_count": 64,
   "id": "1aae69a8-d5fb-4ca4-afb9-b959542c60a4",
   "metadata": {},
   "outputs": [
    {
     "ename": "NameError",
     "evalue": "name 'l' is not defined",
     "output_type": "error",
     "traceback": [
      "\u001b[0;31m---------------------------------------------------------------------------\u001b[0m",
      "\u001b[0;31mNameError\u001b[0m                                 Traceback (most recent call last)",
      "Cell \u001b[0;32mIn[64], line 1\u001b[0m\n\u001b[0;32m----> 1\u001b[0m l\n",
      "\u001b[0;31mNameError\u001b[0m: name 'l' is not defined"
     ]
    }
   ],
   "source": [
    "l"
   ]
  },
  {
   "cell_type": "code",
   "execution_count": 66,
   "id": "51637ad6-9209-40bb-994c-24cacd01514c",
   "metadata": {},
   "outputs": [],
   "source": [
    "# in"
   ]
  },
  {
   "cell_type": "code",
   "execution_count": 68,
   "id": "1622f7f2-10c6-4fa0-9e50-04a88106a3f0",
   "metadata": {},
   "outputs": [],
   "source": [
    "num = [12, 34, 56, 70, 29, 53, 71]"
   ]
  },
  {
   "cell_type": "code",
   "execution_count": 70,
   "id": "d49b1831-16ca-4839-9956-6b20d639d683",
   "metadata": {},
   "outputs": [
    {
     "data": {
      "text/plain": [
       "[12, 34, 56, 70, 29, 53, 71]"
      ]
     },
     "execution_count": 70,
     "metadata": {},
     "output_type": "execute_result"
    }
   ],
   "source": [
    "num"
   ]
  },
  {
   "cell_type": "code",
   "execution_count": 72,
   "id": "7655785d-4547-4ef4-aac2-2346cc00ccc8",
   "metadata": {},
   "outputs": [
    {
     "data": {
      "text/plain": [
       "True"
      ]
     },
     "execution_count": 72,
     "metadata": {},
     "output_type": "execute_result"
    }
   ],
   "source": [
    "53 in num"
   ]
  },
  {
   "cell_type": "code",
   "execution_count": 74,
   "id": "f1a363c7-efd4-4897-b338-2cab9419917a",
   "metadata": {},
   "outputs": [
    {
     "data": {
      "text/plain": [
       "False"
      ]
     },
     "execution_count": 74,
     "metadata": {},
     "output_type": "execute_result"
    }
   ],
   "source": [
    "100 in num"
   ]
  },
  {
   "cell_type": "code",
   "execution_count": 76,
   "id": "8cd8feb3-65ce-400c-b1a8-318020909046",
   "metadata": {},
   "outputs": [
    {
     "data": {
      "text/plain": [
       "False"
      ]
     },
     "execution_count": 76,
     "metadata": {},
     "output_type": "execute_result"
    }
   ],
   "source": [
    "53 not in num"
   ]
  },
  {
   "cell_type": "markdown",
   "id": "1229f942-d709-43a4-b487-84d868707d96",
   "metadata": {},
   "source": [
    "#### Arithmetic operations"
   ]
  },
  {
   "cell_type": "code",
   "execution_count": 79,
   "id": "71016750-a27b-4ca2-bf97-fc3be4aec30c",
   "metadata": {},
   "outputs": [
    {
     "data": {
      "text/plain": [
       "[12, 34, 56, 70, 29, 53, 71]"
      ]
     },
     "execution_count": 79,
     "metadata": {},
     "output_type": "execute_result"
    }
   ],
   "source": [
    "num"
   ]
  },
  {
   "cell_type": "code",
   "execution_count": 81,
   "id": "9924cafe-ef4b-44ec-998a-85f4928252e6",
   "metadata": {},
   "outputs": [
    {
     "data": {
      "text/plain": [
       "[12, 34, 56, 70, 29, 53, 71, 12, 34, 56, 70, 29, 53, 71]"
      ]
     },
     "execution_count": 81,
     "metadata": {},
     "output_type": "execute_result"
    }
   ],
   "source": [
    "num * 2"
   ]
  },
  {
   "cell_type": "code",
   "execution_count": 83,
   "id": "fec30f7b-cf30-4860-a3c0-29d11800517b",
   "metadata": {},
   "outputs": [
    {
     "data": {
      "text/plain": [
       "[12, 34, 56, 70, 29, 53, 71, 34, 40]"
      ]
     },
     "execution_count": 83,
     "metadata": {},
     "output_type": "execute_result"
    }
   ],
   "source": [
    "num + [34, 40]"
   ]
  },
  {
   "cell_type": "code",
   "execution_count": 85,
   "id": "3d594fdc-50ca-43f1-9d62-c4419e5eee80",
   "metadata": {},
   "outputs": [],
   "source": [
    "data = [23, 56, 'Adi']"
   ]
  },
  {
   "cell_type": "code",
   "execution_count": 87,
   "id": "362b1608-fbf2-4ab4-8582-b862d352a67f",
   "metadata": {},
   "outputs": [
    {
     "data": {
      "text/plain": [
       "[12, 34, 56, 70, 29, 53, 71, 23, 56, 'Adi']"
      ]
     },
     "execution_count": 87,
     "metadata": {},
     "output_type": "execute_result"
    }
   ],
   "source": [
    "num + data"
   ]
  },
  {
   "cell_type": "code",
   "execution_count": 89,
   "id": "4c74a102-48b1-4272-8bcf-d5dc3fbc014d",
   "metadata": {},
   "outputs": [
    {
     "data": {
      "text/plain": [
       "[12, 34, 56, 70, 29, 53, 71, 12, 34, 56, 70, 29, 53, 71]"
      ]
     },
     "execution_count": 89,
     "metadata": {},
     "output_type": "execute_result"
    }
   ],
   "source": [
    "x = num * 2\n",
    "x"
   ]
  },
  {
   "cell_type": "markdown",
   "id": "49fed171-2b24-4b29-8cf5-735782c90254",
   "metadata": {},
   "source": [
    "#### Iterate "
   ]
  },
  {
   "cell_type": "code",
   "execution_count": 92,
   "id": "fae53a3c-d01f-45b7-9f55-68d59a8309fd",
   "metadata": {},
   "outputs": [
    {
     "data": {
      "text/plain": [
       "[12, 34, 56, 70, 29, 53, 71]"
      ]
     },
     "execution_count": 92,
     "metadata": {},
     "output_type": "execute_result"
    }
   ],
   "source": [
    "num"
   ]
  },
  {
   "cell_type": "code",
   "execution_count": 94,
   "id": "f430966d-5985-4f2d-b231-f3d891003682",
   "metadata": {},
   "outputs": [
    {
     "name": "stdout",
     "output_type": "stream",
     "text": [
      "12\n",
      "34\n",
      "56\n",
      "70\n",
      "29\n",
      "53\n",
      "71\n"
     ]
    }
   ],
   "source": [
    "for n in num:\n",
    "    print(n)"
   ]
  },
  {
   "cell_type": "code",
   "execution_count": 96,
   "id": "8e40b42d-5b13-45af-a6fe-0946fb5841a1",
   "metadata": {},
   "outputs": [
    {
     "name": "stdout",
     "output_type": "stream",
     "text": [
      "29\n",
      "53\n",
      "71\n"
     ]
    }
   ],
   "source": [
    "# print only odd numbers from the list\n",
    "\n",
    "for n in num:\n",
    "    if n % 2 == 1:\n",
    "        print(n)"
   ]
  },
  {
   "cell_type": "markdown",
   "id": "0757613b-efbf-41e2-89ff-718dc2372f39",
   "metadata": {},
   "source": [
    "#### List comprehension"
   ]
  },
  {
   "cell_type": "code",
   "execution_count": 99,
   "id": "1a8cdf5d-ad6e-4420-8cbf-597ddf9538b2",
   "metadata": {},
   "outputs": [
    {
     "data": {
      "text/plain": [
       "[12, 34, 56, 70, 29, 53, 71]"
      ]
     },
     "execution_count": 99,
     "metadata": {},
     "output_type": "execute_result"
    }
   ],
   "source": [
    "num"
   ]
  },
  {
   "cell_type": "code",
   "execution_count": 101,
   "id": "1e6bddf2-adc2-4e56-8517-f3bd4af00a3c",
   "metadata": {},
   "outputs": [],
   "source": [
    "# map"
   ]
  },
  {
   "cell_type": "code",
   "execution_count": 103,
   "id": "c6f17959-9993-45e9-a49c-e5d6961fc24d",
   "metadata": {},
   "outputs": [],
   "source": [
    "num1 = [n**2 for n in num]"
   ]
  },
  {
   "cell_type": "code",
   "execution_count": 105,
   "id": "7be41453-300e-46f5-837d-c2eccef6d8d9",
   "metadata": {},
   "outputs": [
    {
     "data": {
      "text/plain": [
       "[144, 1156, 3136, 4900, 841, 2809, 5041]"
      ]
     },
     "execution_count": 105,
     "metadata": {},
     "output_type": "execute_result"
    }
   ],
   "source": [
    "num1"
   ]
  },
  {
   "cell_type": "code",
   "execution_count": 109,
   "id": "d1af5fd1-0ba0-43d6-bce6-6eb33b869255",
   "metadata": {},
   "outputs": [],
   "source": [
    "# create a list containing half of the elements of num\n",
    "\n",
    "num2 = [n/2 for n in num]"
   ]
  },
  {
   "cell_type": "code",
   "execution_count": 111,
   "id": "994dad7c-3ada-45be-af8e-c17889ecf390",
   "metadata": {},
   "outputs": [
    {
     "data": {
      "text/plain": [
       "[6.0, 17.0, 28.0, 35.0, 14.5, 26.5, 35.5]"
      ]
     },
     "execution_count": 111,
     "metadata": {},
     "output_type": "execute_result"
    }
   ],
   "source": [
    "num2"
   ]
  },
  {
   "cell_type": "code",
   "execution_count": 113,
   "id": "cf26984f-058a-4634-9395-fdf017530633",
   "metadata": {},
   "outputs": [],
   "source": [
    "# filter"
   ]
  },
  {
   "cell_type": "code",
   "execution_count": 115,
   "id": "3e3c44b2-e58f-41f1-acfd-b725999fd1d0",
   "metadata": {},
   "outputs": [],
   "source": [
    "num3 = [n for n in num if n % 2 == 0]"
   ]
  },
  {
   "cell_type": "code",
   "execution_count": 117,
   "id": "e42ef25c-c562-465c-a738-a411b9746057",
   "metadata": {},
   "outputs": [
    {
     "data": {
      "text/plain": [
       "[12, 34, 56, 70]"
      ]
     },
     "execution_count": 117,
     "metadata": {},
     "output_type": "execute_result"
    }
   ],
   "source": [
    "num3"
   ]
  },
  {
   "cell_type": "code",
   "execution_count": 119,
   "id": "9d0d3f62-8cb7-4de8-babc-0902146e0853",
   "metadata": {},
   "outputs": [],
   "source": [
    "names = ['Mangesh', 'Pranjal', 'prajakta', 'Aishwarya']"
   ]
  },
  {
   "cell_type": "code",
   "execution_count": 121,
   "id": "84adffea-1787-4181-b105-be7bebfa0ea7",
   "metadata": {},
   "outputs": [],
   "source": [
    "# create a new list containing all the names starting from p"
   ]
  },
  {
   "cell_type": "code",
   "execution_count": 131,
   "id": "60e99d33-563c-4be6-8d65-f783d7d604e6",
   "metadata": {},
   "outputs": [],
   "source": [
    "n = [n for n in names if n.lower().startswith('p')]"
   ]
  },
  {
   "cell_type": "code",
   "execution_count": 133,
   "id": "ea7afa7f-f2b2-40e1-bc79-21d17596d42f",
   "metadata": {},
   "outputs": [
    {
     "data": {
      "text/plain": [
       "['Pranjal', 'prajakta']"
      ]
     },
     "execution_count": 133,
     "metadata": {},
     "output_type": "execute_result"
    }
   ],
   "source": [
    "n"
   ]
  },
  {
   "cell_type": "code",
   "execution_count": 135,
   "id": "61182e2b-e3a3-49b2-9074-3ba913fdc38c",
   "metadata": {},
   "outputs": [],
   "source": [
    "# empty"
   ]
  },
  {
   "cell_type": "code",
   "execution_count": 137,
   "id": "b2ed0158-afcc-4416-b02c-b167171f57e5",
   "metadata": {},
   "outputs": [],
   "source": [
    "e = []"
   ]
  },
  {
   "cell_type": "code",
   "execution_count": 139,
   "id": "182f1352-6935-44eb-9f1d-5e92e9fa7846",
   "metadata": {},
   "outputs": [
    {
     "data": {
      "text/plain": [
       "[]"
      ]
     },
     "execution_count": 139,
     "metadata": {},
     "output_type": "execute_result"
    }
   ],
   "source": [
    "e"
   ]
  },
  {
   "cell_type": "code",
   "execution_count": 141,
   "id": "255827e3-47d4-4c58-9557-e936535ff671",
   "metadata": {},
   "outputs": [
    {
     "ename": "IndexError",
     "evalue": "list index out of range",
     "output_type": "error",
     "traceback": [
      "\u001b[0;31m---------------------------------------------------------------------------\u001b[0m",
      "\u001b[0;31mIndexError\u001b[0m                                Traceback (most recent call last)",
      "Cell \u001b[0;32mIn[141], line 1\u001b[0m\n\u001b[0;32m----> 1\u001b[0m e[\u001b[38;5;241m0\u001b[39m]\n",
      "\u001b[0;31mIndexError\u001b[0m: list index out of range"
     ]
    }
   ],
   "source": [
    "e[0]"
   ]
  },
  {
   "cell_type": "code",
   "execution_count": 143,
   "id": "bcd7d6ad-c9c3-4c89-acd7-2cb2a8eeccee",
   "metadata": {},
   "outputs": [],
   "source": [
    "# decomposition of list"
   ]
  },
  {
   "cell_type": "code",
   "execution_count": 145,
   "id": "276bb8a7-f51d-4615-b1f0-8307c4130072",
   "metadata": {},
   "outputs": [],
   "source": [
    "l = [12, 23, 34]"
   ]
  },
  {
   "cell_type": "code",
   "execution_count": 147,
   "id": "b4fe4d34-6709-4637-b95c-427e1bb1301a",
   "metadata": {},
   "outputs": [],
   "source": [
    "x, y, z = l"
   ]
  },
  {
   "cell_type": "code",
   "execution_count": 149,
   "id": "4d9a1933-0793-4b1d-98e1-e44f62d0081f",
   "metadata": {},
   "outputs": [
    {
     "data": {
      "text/plain": [
       "12"
      ]
     },
     "execution_count": 149,
     "metadata": {},
     "output_type": "execute_result"
    }
   ],
   "source": [
    "x"
   ]
  },
  {
   "cell_type": "code",
   "execution_count": 151,
   "id": "c731768a-782f-447c-8853-8ba70f0557b6",
   "metadata": {},
   "outputs": [
    {
     "data": {
      "text/plain": [
       "23"
      ]
     },
     "execution_count": 151,
     "metadata": {},
     "output_type": "execute_result"
    }
   ],
   "source": [
    "y"
   ]
  },
  {
   "cell_type": "code",
   "execution_count": 153,
   "id": "d5992d74-d220-4f26-a299-d830d53c76b7",
   "metadata": {},
   "outputs": [
    {
     "data": {
      "text/plain": [
       "34"
      ]
     },
     "execution_count": 153,
     "metadata": {},
     "output_type": "execute_result"
    }
   ],
   "source": [
    "z"
   ]
  },
  {
   "cell_type": "markdown",
   "id": "2d7add48-a452-458c-9002-ba49f00ba944",
   "metadata": {},
   "source": [
    "#### functions"
   ]
  },
  {
   "cell_type": "code",
   "execution_count": 156,
   "id": "ebe97c37-c61e-4e6b-a87b-bf583910678a",
   "metadata": {},
   "outputs": [
    {
     "data": {
      "text/plain": [
       "[12, 34, 56, 70, 29, 53, 71]"
      ]
     },
     "execution_count": 156,
     "metadata": {},
     "output_type": "execute_result"
    }
   ],
   "source": [
    "num"
   ]
  },
  {
   "cell_type": "code",
   "execution_count": 158,
   "id": "452cea49-9ff7-451c-b206-d7d443442b3e",
   "metadata": {},
   "outputs": [
    {
     "data": {
      "text/plain": [
       "7"
      ]
     },
     "execution_count": 158,
     "metadata": {},
     "output_type": "execute_result"
    }
   ],
   "source": [
    "len(num)"
   ]
  },
  {
   "cell_type": "code",
   "execution_count": 160,
   "id": "e812e7b9-62fd-4196-bc53-35a79f00b5c2",
   "metadata": {},
   "outputs": [
    {
     "data": {
      "text/plain": [
       "12"
      ]
     },
     "execution_count": 160,
     "metadata": {},
     "output_type": "execute_result"
    }
   ],
   "source": [
    "min(num)"
   ]
  },
  {
   "cell_type": "code",
   "execution_count": 162,
   "id": "c5088a75-edbc-418a-8581-160c71e6d89c",
   "metadata": {},
   "outputs": [
    {
     "data": {
      "text/plain": [
       "325"
      ]
     },
     "execution_count": 162,
     "metadata": {},
     "output_type": "execute_result"
    }
   ],
   "source": [
    "sum(num)"
   ]
  },
  {
   "cell_type": "code",
   "execution_count": 164,
   "id": "5467462a-d681-4040-85e3-6a0ba4850346",
   "metadata": {},
   "outputs": [
    {
     "data": {
      "text/plain": [
       "[12, 29, 34, 53, 56, 70, 71]"
      ]
     },
     "execution_count": 164,
     "metadata": {},
     "output_type": "execute_result"
    }
   ],
   "source": [
    "sorted(num)"
   ]
  },
  {
   "cell_type": "code",
   "execution_count": 166,
   "id": "3a3a5fe3-bdc4-497d-860b-1d306e15d649",
   "metadata": {},
   "outputs": [
    {
     "data": {
      "text/plain": [
       "[71, 70, 56, 53, 34, 29, 12]"
      ]
     },
     "execution_count": 166,
     "metadata": {},
     "output_type": "execute_result"
    }
   ],
   "source": [
    "sorted(num, reverse= True)"
   ]
  },
  {
   "cell_type": "code",
   "execution_count": 168,
   "id": "f486290b-573f-49aa-8bc8-75d7111d47fd",
   "metadata": {},
   "outputs": [],
   "source": [
    "name = 'Aditya'"
   ]
  },
  {
   "cell_type": "code",
   "execution_count": 170,
   "id": "db8a9860-742c-4220-ab24-6788b8fc4a15",
   "metadata": {},
   "outputs": [
    {
     "data": {
      "text/plain": [
       "['A', 'd', 'i', 't', 'y', 'a']"
      ]
     },
     "execution_count": 170,
     "metadata": {},
     "output_type": "execute_result"
    }
   ],
   "source": [
    "list(name)"
   ]
  },
  {
   "cell_type": "markdown",
   "id": "ced1d8c9-88a1-40b4-9341-5855968e7aea",
   "metadata": {},
   "source": [
    "#### methods"
   ]
  },
  {
   "cell_type": "code",
   "execution_count": 173,
   "id": "b03e3bfd-48fe-4072-b98c-899e03306818",
   "metadata": {},
   "outputs": [],
   "source": [
    "# append the data/ add at the end"
   ]
  },
  {
   "cell_type": "code",
   "execution_count": 175,
   "id": "a0841831-f1c5-49cc-b622-e38536b4581a",
   "metadata": {},
   "outputs": [
    {
     "data": {
      "text/plain": [
       "[12, 34, 56, 70, 29, 53, 71]"
      ]
     },
     "execution_count": 175,
     "metadata": {},
     "output_type": "execute_result"
    }
   ],
   "source": [
    "num"
   ]
  },
  {
   "cell_type": "code",
   "execution_count": 177,
   "id": "02d1592c-b8ca-4bb7-ab71-ad43f2a91f3e",
   "metadata": {},
   "outputs": [],
   "source": [
    "num.append(100)"
   ]
  },
  {
   "cell_type": "code",
   "execution_count": 179,
   "id": "b1d2276e-3bbf-4011-818b-3bae9918a3c1",
   "metadata": {},
   "outputs": [
    {
     "data": {
      "text/plain": [
       "[12, 34, 56, 70, 29, 53, 71, 100]"
      ]
     },
     "execution_count": 179,
     "metadata": {},
     "output_type": "execute_result"
    }
   ],
   "source": [
    "num"
   ]
  },
  {
   "cell_type": "code",
   "execution_count": 181,
   "id": "3c5c974b-ca4d-443d-bade-1a1ac4c7d0a4",
   "metadata": {},
   "outputs": [],
   "source": [
    "# append and extend"
   ]
  },
  {
   "cell_type": "code",
   "execution_count": 183,
   "id": "daf25682-bfb7-4236-90f1-845541e21cf8",
   "metadata": {},
   "outputs": [],
   "source": [
    "num1 = [12, 13, 14]\n",
    "num2 = [12, 13, 14]"
   ]
  },
  {
   "cell_type": "code",
   "execution_count": 185,
   "id": "c776f68a-867f-4365-bbb3-f3441225ae56",
   "metadata": {},
   "outputs": [],
   "source": [
    "num1.append([10, 100])\n",
    "num2.extend([10, 100])"
   ]
  },
  {
   "cell_type": "code",
   "execution_count": 187,
   "id": "5b4038b2-526f-4ddc-b38d-8a3dc7728865",
   "metadata": {},
   "outputs": [
    {
     "data": {
      "text/plain": [
       "[12, 13, 14, [10, 100]]"
      ]
     },
     "execution_count": 187,
     "metadata": {},
     "output_type": "execute_result"
    }
   ],
   "source": [
    "num1"
   ]
  },
  {
   "cell_type": "code",
   "execution_count": 189,
   "id": "53e857ec-dcbb-41dc-b34c-568bf5fab724",
   "metadata": {},
   "outputs": [
    {
     "data": {
      "text/plain": [
       "[12, 13, 14, 10, 100]"
      ]
     },
     "execution_count": 189,
     "metadata": {},
     "output_type": "execute_result"
    }
   ],
   "source": [
    "num2"
   ]
  },
  {
   "cell_type": "code",
   "execution_count": 191,
   "id": "8acc9409-de61-4bc7-b2e3-9d2f64935361",
   "metadata": {},
   "outputs": [
    {
     "data": {
      "text/plain": [
       "[10, 100]"
      ]
     },
     "execution_count": 191,
     "metadata": {},
     "output_type": "execute_result"
    }
   ],
   "source": [
    "num1[-1]"
   ]
  },
  {
   "cell_type": "code",
   "execution_count": 193,
   "id": "fd851e08-b93c-4215-b747-20339b4dba09",
   "metadata": {},
   "outputs": [
    {
     "data": {
      "text/plain": [
       "100"
      ]
     },
     "execution_count": 193,
     "metadata": {},
     "output_type": "execute_result"
    }
   ],
   "source": [
    "num2[-1]"
   ]
  },
  {
   "cell_type": "code",
   "execution_count": 195,
   "id": "da8275b6-bcec-49cb-8a4c-93fbec99a7c9",
   "metadata": {},
   "outputs": [
    {
     "data": {
      "text/plain": [
       "[12, 13, 14, [10, 100]]"
      ]
     },
     "execution_count": 195,
     "metadata": {},
     "output_type": "execute_result"
    }
   ],
   "source": [
    "num1"
   ]
  },
  {
   "cell_type": "code",
   "execution_count": 199,
   "id": "d017d84c-0c33-43af-9ea1-7ca4c9367dde",
   "metadata": {},
   "outputs": [
    {
     "data": {
      "text/plain": [
       "[10, 100]"
      ]
     },
     "execution_count": 199,
     "metadata": {},
     "output_type": "execute_result"
    }
   ],
   "source": [
    "num1[-1]"
   ]
  },
  {
   "cell_type": "code",
   "execution_count": 203,
   "id": "671048cb-be3e-4f86-b641-1fcf1ceffb03",
   "metadata": {},
   "outputs": [
    {
     "data": {
      "text/plain": [
       "100"
      ]
     },
     "execution_count": 203,
     "metadata": {},
     "output_type": "execute_result"
    }
   ],
   "source": [
    "num1[-1][1]"
   ]
  },
  {
   "cell_type": "code",
   "execution_count": 205,
   "id": "fbd3512e-7936-4ae4-a92a-f56dade3262b",
   "metadata": {},
   "outputs": [
    {
     "data": {
      "text/plain": [
       "[12, 34, 56, 70, 29, 53, 71, 100]"
      ]
     },
     "execution_count": 205,
     "metadata": {},
     "output_type": "execute_result"
    }
   ],
   "source": [
    "# insert\n",
    "\n",
    "num"
   ]
  },
  {
   "cell_type": "code",
   "execution_count": 207,
   "id": "7ac8d0a4-65c1-451e-8866-5e29105be389",
   "metadata": {},
   "outputs": [],
   "source": [
    "num.insert(2, 1000)"
   ]
  },
  {
   "cell_type": "code",
   "execution_count": 209,
   "id": "e66c1543-e20d-4e4b-9e79-f365cd850e2e",
   "metadata": {},
   "outputs": [
    {
     "data": {
      "text/plain": [
       "[12, 34, 1000, 56, 70, 29, 53, 71, 100]"
      ]
     },
     "execution_count": 209,
     "metadata": {},
     "output_type": "execute_result"
    }
   ],
   "source": [
    "num"
   ]
  },
  {
   "cell_type": "code",
   "execution_count": 211,
   "id": "5f7b37d6-5421-47c6-906a-fa652a58ee04",
   "metadata": {},
   "outputs": [],
   "source": [
    "# remove\n",
    "\n",
    "num.remove(1000)"
   ]
  },
  {
   "cell_type": "code",
   "execution_count": 213,
   "id": "170b7b1e-4f88-4a49-9aa3-6ebdaacebab9",
   "metadata": {},
   "outputs": [
    {
     "data": {
      "text/plain": [
       "[12, 34, 56, 70, 29, 53, 71, 100]"
      ]
     },
     "execution_count": 213,
     "metadata": {},
     "output_type": "execute_result"
    }
   ],
   "source": [
    "num"
   ]
  },
  {
   "cell_type": "code",
   "execution_count": 215,
   "id": "660242f7-d988-4246-8e94-a3ed9559d86c",
   "metadata": {},
   "outputs": [
    {
     "data": {
      "text/plain": [
       "3"
      ]
     },
     "execution_count": 215,
     "metadata": {},
     "output_type": "execute_result"
    }
   ],
   "source": [
    "# index ?\n",
    "num.index(70)"
   ]
  },
  {
   "cell_type": "code",
   "execution_count": 217,
   "id": "952b4e37-52ee-4452-95ad-4211c84b6e67",
   "metadata": {},
   "outputs": [
    {
     "data": {
      "text/plain": [
       "1"
      ]
     },
     "execution_count": 217,
     "metadata": {},
     "output_type": "execute_result"
    }
   ],
   "source": [
    "# count\n",
    "\n",
    "num.count(70)"
   ]
  },
  {
   "cell_type": "code",
   "execution_count": 219,
   "id": "f7093e24-7dd1-49c5-8d16-4bad176f2a06",
   "metadata": {},
   "outputs": [
    {
     "data": {
      "text/plain": [
       "100"
      ]
     },
     "execution_count": 219,
     "metadata": {},
     "output_type": "execute_result"
    }
   ],
   "source": [
    "# delete\n",
    "\n",
    "num.pop()"
   ]
  },
  {
   "cell_type": "code",
   "execution_count": 221,
   "id": "6bb90d62-9469-421e-b03c-dce56f64e0e5",
   "metadata": {},
   "outputs": [
    {
     "data": {
      "text/plain": [
       "[12, 34, 56, 70, 29, 53, 71]"
      ]
     },
     "execution_count": 221,
     "metadata": {},
     "output_type": "execute_result"
    }
   ],
   "source": [
    "num"
   ]
  },
  {
   "cell_type": "code",
   "execution_count": 223,
   "id": "0478b0a9-902d-48cf-8cd1-dd4a7cc323e3",
   "metadata": {},
   "outputs": [
    {
     "data": {
      "text/plain": [
       "56"
      ]
     },
     "execution_count": 223,
     "metadata": {},
     "output_type": "execute_result"
    }
   ],
   "source": [
    "num.pop(2)"
   ]
  },
  {
   "cell_type": "code",
   "execution_count": 225,
   "id": "db45fbb5-77a1-497b-9de3-b62a0e03eff0",
   "metadata": {},
   "outputs": [
    {
     "data": {
      "text/plain": [
       "[12, 34, 70, 29, 53, 71]"
      ]
     },
     "execution_count": 225,
     "metadata": {},
     "output_type": "execute_result"
    }
   ],
   "source": [
    "num"
   ]
  },
  {
   "cell_type": "code",
   "execution_count": 227,
   "id": "c748bc4b-3443-4d0f-b259-369e61ecc959",
   "metadata": {},
   "outputs": [],
   "source": [
    "num.sort()"
   ]
  },
  {
   "cell_type": "code",
   "execution_count": 229,
   "id": "fa4ca8a7-d310-494a-b5c4-cd6cb5735345",
   "metadata": {},
   "outputs": [
    {
     "data": {
      "text/plain": [
       "[12, 29, 34, 53, 70, 71]"
      ]
     },
     "execution_count": 229,
     "metadata": {},
     "output_type": "execute_result"
    }
   ],
   "source": [
    "num"
   ]
  },
  {
   "cell_type": "code",
   "execution_count": 231,
   "id": "e5d55c80-c537-407d-8f50-c3f9e71e7411",
   "metadata": {},
   "outputs": [],
   "source": [
    "# clear\n",
    "num.clear()"
   ]
  },
  {
   "cell_type": "code",
   "execution_count": 233,
   "id": "cbb94e12-6ec0-4421-888f-906e5d0c0ca1",
   "metadata": {},
   "outputs": [
    {
     "data": {
      "text/plain": [
       "[]"
      ]
     },
     "execution_count": 233,
     "metadata": {},
     "output_type": "execute_result"
    }
   ],
   "source": [
    "num"
   ]
  },
  {
   "cell_type": "code",
   "execution_count": 237,
   "id": "65b49f80-7a4c-4d43-99de-1708dd61c95e",
   "metadata": {},
   "outputs": [],
   "source": [
    "\"\"\"\n",
    "create a user defined list\n",
    "1. ask how many elements u want in the list\n",
    "2. specify those elements and create a list\n",
    "\"\"\";"
   ]
  },
  {
   "cell_type": "code",
   "execution_count": 239,
   "id": "9f06f7d0-2917-421a-9bb1-b583265c09d8",
   "metadata": {},
   "outputs": [
    {
     "name": "stdin",
     "output_type": "stream",
     "text": [
      "How many elements 2\n",
      "Enter the number 45\n",
      "Enter the number 23\n"
     ]
    },
    {
     "name": "stdout",
     "output_type": "stream",
     "text": [
      "Ur list is: \n",
      " [45, 23]\n"
     ]
    }
   ],
   "source": [
    "e = []\n",
    "\n",
    "num = int(input('How many elements'))\n",
    "\n",
    "for n in range(num):\n",
    "    element = int(input('Enter the number'))\n",
    "    e.append(element)\n",
    "\n",
    "print(\"Ur list is: \\n\", e)"
   ]
  },
  {
   "cell_type": "markdown",
   "id": "3df33b18-64f8-4081-9265-a5d7f284d176",
   "metadata": {},
   "source": [
    "# Tuple"
   ]
  },
  {
   "cell_type": "code",
   "execution_count": 242,
   "id": "5cd1110c-98a8-463e-9dbf-f1f6fcef8c18",
   "metadata": {},
   "outputs": [],
   "source": [
    "num = (23, 45, 67, 23, 'Adi')"
   ]
  },
  {
   "cell_type": "code",
   "execution_count": 244,
   "id": "4a90b42a-4e77-4d85-b502-c6c3a3d2163d",
   "metadata": {},
   "outputs": [
    {
     "data": {
      "text/plain": [
       "(23, 45, 67, 23, 'Adi')"
      ]
     },
     "execution_count": 244,
     "metadata": {},
     "output_type": "execute_result"
    }
   ],
   "source": [
    "num"
   ]
  },
  {
   "cell_type": "code",
   "execution_count": 246,
   "id": "115e7ba1-7d29-4f69-a28b-0cdd157d942f",
   "metadata": {},
   "outputs": [
    {
     "data": {
      "text/plain": [
       "tuple"
      ]
     },
     "execution_count": 246,
     "metadata": {},
     "output_type": "execute_result"
    }
   ],
   "source": [
    "type(num)"
   ]
  },
  {
   "cell_type": "code",
   "execution_count": 250,
   "id": "9a957b62-b8a0-4893-8f6c-02ddca90cc8f",
   "metadata": {},
   "outputs": [
    {
     "data": {
      "text/plain": [
       "67"
      ]
     },
     "execution_count": 250,
     "metadata": {},
     "output_type": "execute_result"
    }
   ],
   "source": [
    "num[2]  # ordered"
   ]
  },
  {
   "cell_type": "code",
   "execution_count": 252,
   "id": "41dc31af-8a5f-402e-9761-ad4efb710583",
   "metadata": {},
   "outputs": [
    {
     "data": {
      "text/plain": [
       "(67, 23, 'Adi')"
      ]
     },
     "execution_count": 252,
     "metadata": {},
     "output_type": "execute_result"
    }
   ],
   "source": [
    "num[2:5]"
   ]
  },
  {
   "cell_type": "code",
   "execution_count": 254,
   "id": "670d4e41-cc58-4355-afe7-7369fcf6ffed",
   "metadata": {},
   "outputs": [
    {
     "data": {
      "text/plain": [
       "(23, 45, 67, 23, 'Adi')"
      ]
     },
     "execution_count": 254,
     "metadata": {},
     "output_type": "execute_result"
    }
   ],
   "source": [
    "num"
   ]
  },
  {
   "cell_type": "code",
   "execution_count": 256,
   "id": "238a5b77-2e42-4c38-9fde-0df03a0665ab",
   "metadata": {},
   "outputs": [
    {
     "ename": "TypeError",
     "evalue": "'tuple' object does not support item assignment",
     "output_type": "error",
     "traceback": [
      "\u001b[0;31m---------------------------------------------------------------------------\u001b[0m",
      "\u001b[0;31mTypeError\u001b[0m                                 Traceback (most recent call last)",
      "Cell \u001b[0;32mIn[256], line 1\u001b[0m\n\u001b[0;32m----> 1\u001b[0m num[\u001b[38;5;241m1\u001b[39m] \u001b[38;5;241m=\u001b[39m \u001b[38;5;241m100\u001b[39m\n",
      "\u001b[0;31mTypeError\u001b[0m: 'tuple' object does not support item assignment"
     ]
    }
   ],
   "source": [
    "num[1] = 100   # immutable"
   ]
  },
  {
   "cell_type": "code",
   "execution_count": 258,
   "id": "d79c96f6-49ae-432c-9b7f-9a07810e4960",
   "metadata": {},
   "outputs": [
    {
     "data": {
      "text/plain": [
       "(23, 45, 67, 23, 'Adi')"
      ]
     },
     "execution_count": 258,
     "metadata": {},
     "output_type": "execute_result"
    }
   ],
   "source": [
    "num"
   ]
  },
  {
   "cell_type": "code",
   "execution_count": 260,
   "id": "adcc65d6-cec0-46f2-9563-011bdd7343f8",
   "metadata": {},
   "outputs": [],
   "source": [
    "l = list(num)"
   ]
  },
  {
   "cell_type": "code",
   "execution_count": 262,
   "id": "0285fa71-6950-478a-8a75-7df8feb83935",
   "metadata": {},
   "outputs": [
    {
     "data": {
      "text/plain": [
       "[23, 45, 67, 23, 'Adi']"
      ]
     },
     "execution_count": 262,
     "metadata": {},
     "output_type": "execute_result"
    }
   ],
   "source": [
    "l"
   ]
  },
  {
   "cell_type": "code",
   "execution_count": 264,
   "id": "e971c17c-21e1-4a28-a090-cc5056c85217",
   "metadata": {},
   "outputs": [],
   "source": [
    "l[2] = 100"
   ]
  },
  {
   "cell_type": "code",
   "execution_count": 266,
   "id": "2f68e8d8-5ef9-465e-9e3e-0d838b42888e",
   "metadata": {},
   "outputs": [],
   "source": [
    "num = tuple(l)"
   ]
  },
  {
   "cell_type": "code",
   "execution_count": 268,
   "id": "16276bd8-e9d5-4e0e-a6db-81ca81d62674",
   "metadata": {},
   "outputs": [
    {
     "data": {
      "text/plain": [
       "(23, 45, 100, 23, 'Adi')"
      ]
     },
     "execution_count": 268,
     "metadata": {},
     "output_type": "execute_result"
    }
   ],
   "source": [
    "num"
   ]
  },
  {
   "cell_type": "code",
   "execution_count": 270,
   "id": "a71468da-7629-427f-8275-b965a7fb7a48",
   "metadata": {},
   "outputs": [
    {
     "data": {
      "text/plain": [
       "5"
      ]
     },
     "execution_count": 270,
     "metadata": {},
     "output_type": "execute_result"
    }
   ],
   "source": [
    "len(num)"
   ]
  },
  {
   "cell_type": "code",
   "execution_count": 274,
   "id": "c3173ed1-b68e-44dd-9616-78f1a7368f78",
   "metadata": {},
   "outputs": [],
   "source": [
    "num = (12, 34, 56, 13, 28)"
   ]
  },
  {
   "cell_type": "code",
   "execution_count": 276,
   "id": "30c92605-750b-485c-baf9-783fe6641e23",
   "metadata": {},
   "outputs": [
    {
     "data": {
      "text/plain": [
       "56"
      ]
     },
     "execution_count": 276,
     "metadata": {},
     "output_type": "execute_result"
    }
   ],
   "source": [
    "max(num)"
   ]
  },
  {
   "cell_type": "code",
   "execution_count": 278,
   "id": "19e9498e-5e4b-43b6-a8f3-e466910ea9a8",
   "metadata": {},
   "outputs": [
    {
     "data": {
      "text/plain": [
       "1"
      ]
     },
     "execution_count": 278,
     "metadata": {},
     "output_type": "execute_result"
    }
   ],
   "source": [
    "num.index(34)"
   ]
  },
  {
   "cell_type": "code",
   "execution_count": 280,
   "id": "6856a8d7-b0ee-4957-98d5-31f7ae0cfe8a",
   "metadata": {},
   "outputs": [
    {
     "data": {
      "text/plain": [
       "1"
      ]
     },
     "execution_count": 280,
     "metadata": {},
     "output_type": "execute_result"
    }
   ],
   "source": [
    "num.count(12)"
   ]
  },
  {
   "cell_type": "code",
   "execution_count": 282,
   "id": "9ed95d54-de94-49de-bec7-056cba0a52b9",
   "metadata": {},
   "outputs": [
    {
     "data": {
      "text/plain": [
       "['__add__',\n",
       " '__class__',\n",
       " '__class_getitem__',\n",
       " '__contains__',\n",
       " '__delattr__',\n",
       " '__dir__',\n",
       " '__doc__',\n",
       " '__eq__',\n",
       " '__format__',\n",
       " '__ge__',\n",
       " '__getattribute__',\n",
       " '__getitem__',\n",
       " '__getnewargs__',\n",
       " '__getstate__',\n",
       " '__gt__',\n",
       " '__hash__',\n",
       " '__init__',\n",
       " '__init_subclass__',\n",
       " '__iter__',\n",
       " '__le__',\n",
       " '__len__',\n",
       " '__lt__',\n",
       " '__mul__',\n",
       " '__ne__',\n",
       " '__new__',\n",
       " '__reduce__',\n",
       " '__reduce_ex__',\n",
       " '__repr__',\n",
       " '__rmul__',\n",
       " '__setattr__',\n",
       " '__sizeof__',\n",
       " '__str__',\n",
       " '__subclasshook__',\n",
       " 'count',\n",
       " 'index']"
      ]
     },
     "execution_count": 282,
     "metadata": {},
     "output_type": "execute_result"
    }
   ],
   "source": [
    "dir(num)"
   ]
  },
  {
   "cell_type": "markdown",
   "id": "b03f0658-254d-4a28-b4ee-77c65ea968e1",
   "metadata": {},
   "source": [
    "# set"
   ]
  },
  {
   "cell_type": "code",
   "execution_count": 285,
   "id": "9a3bac43-afe6-41a6-95bf-2ccbb9d56f23",
   "metadata": {},
   "outputs": [],
   "source": [
    "# collection of unique elements"
   ]
  },
  {
   "cell_type": "code",
   "execution_count": 287,
   "id": "3cb3e210-05d7-42a8-ae57-42461eac2470",
   "metadata": {},
   "outputs": [],
   "source": [
    "s = {12, 34, 56, 12, 12, 34, 78}"
   ]
  },
  {
   "cell_type": "code",
   "execution_count": 289,
   "id": "92246de0-6894-4937-a445-0db0a228581e",
   "metadata": {},
   "outputs": [
    {
     "data": {
      "text/plain": [
       "{12, 34, 56, 78}"
      ]
     },
     "execution_count": 289,
     "metadata": {},
     "output_type": "execute_result"
    }
   ],
   "source": [
    "s"
   ]
  },
  {
   "cell_type": "code",
   "execution_count": 291,
   "id": "f3d2be3f-10e4-4c4a-aca4-aee3c7bb0c88",
   "metadata": {},
   "outputs": [
    {
     "data": {
      "text/plain": [
       "set"
      ]
     },
     "execution_count": 291,
     "metadata": {},
     "output_type": "execute_result"
    }
   ],
   "source": [
    "type(s)"
   ]
  },
  {
   "cell_type": "code",
   "execution_count": 293,
   "id": "b5cf35cf-98d7-451f-8887-fcee7d7023b3",
   "metadata": {},
   "outputs": [
    {
     "ename": "TypeError",
     "evalue": "'set' object is not subscriptable",
     "output_type": "error",
     "traceback": [
      "\u001b[0;31m---------------------------------------------------------------------------\u001b[0m",
      "\u001b[0;31mTypeError\u001b[0m                                 Traceback (most recent call last)",
      "Cell \u001b[0;32mIn[293], line 1\u001b[0m\n\u001b[0;32m----> 1\u001b[0m s[\u001b[38;5;241m2\u001b[39m]\n",
      "\u001b[0;31mTypeError\u001b[0m: 'set' object is not subscriptable"
     ]
    }
   ],
   "source": [
    "s[2]  # unordered"
   ]
  },
  {
   "cell_type": "code",
   "execution_count": 295,
   "id": "499a2e2b-4f94-4cf8-98ac-b10de3b02a09",
   "metadata": {},
   "outputs": [],
   "source": [
    "s.add(10)"
   ]
  },
  {
   "cell_type": "code",
   "execution_count": 297,
   "id": "aded8242-328d-482e-864d-b3de8a98096b",
   "metadata": {},
   "outputs": [
    {
     "data": {
      "text/plain": [
       "{10, 12, 34, 56, 78}"
      ]
     },
     "execution_count": 297,
     "metadata": {},
     "output_type": "execute_result"
    }
   ],
   "source": [
    "s"
   ]
  },
  {
   "cell_type": "code",
   "execution_count": 299,
   "id": "a76dd174-9c0a-4ffd-ab83-2178922347ad",
   "metadata": {},
   "outputs": [
    {
     "data": {
      "text/plain": [
       "[34, 10, 12, 78, 56]"
      ]
     },
     "execution_count": 299,
     "metadata": {},
     "output_type": "execute_result"
    }
   ],
   "source": [
    "list(s)"
   ]
  },
  {
   "cell_type": "markdown",
   "id": "cb61105c-3a20-4893-b93c-7131526b89ab",
   "metadata": {},
   "source": [
    "# Dictionary"
   ]
  },
  {
   "cell_type": "code",
   "execution_count": 302,
   "id": "c6771815-21d1-48e1-aec9-bdeb186f91f8",
   "metadata": {},
   "outputs": [],
   "source": [
    "d = {1: 'Ajinkya', 2: 'Riya', 3: 'Natasha', 7: 'Jay'}"
   ]
  },
  {
   "cell_type": "code",
   "execution_count": 304,
   "id": "3baab3ea-2c5b-48b0-bfb8-282045d4f124",
   "metadata": {},
   "outputs": [
    {
     "data": {
      "text/plain": [
       "{1: 'Ajinkya', 2: 'Riya', 3: 'Natasha', 7: 'Jay'}"
      ]
     },
     "execution_count": 304,
     "metadata": {},
     "output_type": "execute_result"
    }
   ],
   "source": [
    "d"
   ]
  },
  {
   "cell_type": "code",
   "execution_count": 306,
   "id": "2f7e8b60-8c9b-450a-82e6-fc345a03912a",
   "metadata": {},
   "outputs": [
    {
     "data": {
      "text/plain": [
       "dict"
      ]
     },
     "execution_count": 306,
     "metadata": {},
     "output_type": "execute_result"
    }
   ],
   "source": [
    "type(d)"
   ]
  },
  {
   "cell_type": "code",
   "execution_count": 308,
   "id": "c926dd36-ecb6-431c-8e4a-3438393ce410",
   "metadata": {},
   "outputs": [],
   "source": [
    "# keys => unique\n",
    "# values => duplicates allowed"
   ]
  },
  {
   "cell_type": "code",
   "execution_count": 310,
   "id": "ca0f5628-d0de-4234-ae0d-27f301c3f085",
   "metadata": {},
   "outputs": [
    {
     "data": {
      "text/plain": [
       "'Riya'"
      ]
     },
     "execution_count": 310,
     "metadata": {},
     "output_type": "execute_result"
    }
   ],
   "source": [
    "d[2]"
   ]
  },
  {
   "cell_type": "code",
   "execution_count": 314,
   "id": "0b1e5ae4-e8b3-41eb-ac0e-9374aba4e6d9",
   "metadata": {},
   "outputs": [
    {
     "data": {
      "text/plain": [
       "'Jay'"
      ]
     },
     "execution_count": 314,
     "metadata": {},
     "output_type": "execute_result"
    }
   ],
   "source": [
    "d[7]"
   ]
  },
  {
   "cell_type": "code",
   "execution_count": 316,
   "id": "5ac94525-20c5-4f69-ab8a-0c6ac8921e94",
   "metadata": {},
   "outputs": [],
   "source": [
    "d[7] = 'Raj'"
   ]
  },
  {
   "cell_type": "code",
   "execution_count": 318,
   "id": "8cac7aa3-3236-4247-a48f-b66f573cf6f9",
   "metadata": {},
   "outputs": [
    {
     "data": {
      "text/plain": [
       "{1: 'Ajinkya', 2: 'Riya', 3: 'Natasha', 7: 'Raj'}"
      ]
     },
     "execution_count": 318,
     "metadata": {},
     "output_type": "execute_result"
    }
   ],
   "source": [
    "d"
   ]
  },
  {
   "cell_type": "code",
   "execution_count": 320,
   "id": "bfec9d4c-74c8-4c24-baa5-67528b53fb58",
   "metadata": {},
   "outputs": [],
   "source": [
    "d[10] = ['Neo', 'Grey']"
   ]
  },
  {
   "cell_type": "code",
   "execution_count": 322,
   "id": "13aa7e76-86f4-46a3-b991-4a859fa9e07c",
   "metadata": {},
   "outputs": [
    {
     "data": {
      "text/plain": [
       "{1: 'Ajinkya', 2: 'Riya', 3: 'Natasha', 7: 'Raj', 10: ['Neo', 'Grey']}"
      ]
     },
     "execution_count": 322,
     "metadata": {},
     "output_type": "execute_result"
    }
   ],
   "source": [
    "d"
   ]
  },
  {
   "cell_type": "code",
   "execution_count": 326,
   "id": "76636471-b074-4c03-97bc-99dc9463c0a8",
   "metadata": {},
   "outputs": [
    {
     "data": {
      "text/plain": [
       "dict_keys([1, 2, 3, 7, 10])"
      ]
     },
     "execution_count": 326,
     "metadata": {},
     "output_type": "execute_result"
    }
   ],
   "source": [
    "d.keys()"
   ]
  },
  {
   "cell_type": "code",
   "execution_count": 328,
   "id": "cbfbe7ec-c6b6-4323-bf49-69ee243e27ef",
   "metadata": {},
   "outputs": [
    {
     "data": {
      "text/plain": [
       "dict_values(['Ajinkya', 'Riya', 'Natasha', 'Raj', ['Neo', 'Grey']])"
      ]
     },
     "execution_count": 328,
     "metadata": {},
     "output_type": "execute_result"
    }
   ],
   "source": [
    "d.values()"
   ]
  },
  {
   "cell_type": "code",
   "execution_count": null,
   "id": "35590ffe-361e-4adf-bf15-3db5e6c86f08",
   "metadata": {},
   "outputs": [],
   "source": []
  }
 ],
 "metadata": {
  "kernelspec": {
   "display_name": "Python 3 (ipykernel)",
   "language": "python",
   "name": "python3"
  },
  "language_info": {
   "codemirror_mode": {
    "name": "ipython",
    "version": 3
   },
   "file_extension": ".py",
   "mimetype": "text/x-python",
   "name": "python",
   "nbconvert_exporter": "python",
   "pygments_lexer": "ipython3",
   "version": "3.11.9"
  }
 },
 "nbformat": 4,
 "nbformat_minor": 5
}

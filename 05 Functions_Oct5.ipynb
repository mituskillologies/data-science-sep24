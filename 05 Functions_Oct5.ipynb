{
 "cells": [
  {
   "cell_type": "code",
   "execution_count": 2,
   "id": "0888794d-b597-43bc-b0d9-59eb7ad93b82",
   "metadata": {},
   "outputs": [],
   "source": [
    "# define the function/ function definition\n",
    "\n",
    "def show():\n",
    "    print('Hello')\n",
    "    print('How r ya')\n",
    "    print('Goodbye!!!')"
   ]
  },
  {
   "cell_type": "code",
   "execution_count": 4,
   "id": "67705303-9edc-4f16-957d-bcc942537df2",
   "metadata": {},
   "outputs": [
    {
     "name": "stdout",
     "output_type": "stream",
     "text": [
      "Hello\n",
      "How r ya\n",
      "Goodbye!!!\n"
     ]
    }
   ],
   "source": [
    "show()  # function calling"
   ]
  },
  {
   "cell_type": "code",
   "execution_count": 6,
   "id": "571eb042-add1-436b-88b7-e0bfc1f219ea",
   "metadata": {},
   "outputs": [
    {
     "name": "stdout",
     "output_type": "stream",
     "text": [
      "Hello\n",
      "How r ya\n",
      "Goodbye!!!\n",
      "Hello\n",
      "How r ya\n",
      "Goodbye!!!\n",
      "Hello\n",
      "How r ya\n",
      "Goodbye!!!\n"
     ]
    }
   ],
   "source": [
    "show()\n",
    "show()\n",
    "show()"
   ]
  },
  {
   "cell_type": "code",
   "execution_count": 8,
   "id": "55fdb730-b98c-45d7-b670-b4c7df74d631",
   "metadata": {},
   "outputs": [],
   "source": [
    "# parameterized function\n",
    "\n",
    "def square(num):\n",
    "    sq = num * num\n",
    "    print(sq)"
   ]
  },
  {
   "cell_type": "code",
   "execution_count": 10,
   "id": "13ede830-1475-42e0-a3c4-50bbe236278b",
   "metadata": {},
   "outputs": [
    {
     "name": "stdout",
     "output_type": "stream",
     "text": [
      "25\n"
     ]
    }
   ],
   "source": [
    "square(5)"
   ]
  },
  {
   "cell_type": "code",
   "execution_count": 12,
   "id": "ba07573f-99f2-4796-bf97-0aef81c30b26",
   "metadata": {},
   "outputs": [
    {
     "name": "stdout",
     "output_type": "stream",
     "text": [
      "100\n"
     ]
    }
   ],
   "source": [
    "square(10)"
   ]
  },
  {
   "cell_type": "code",
   "execution_count": 14,
   "id": "4e602d2c-6cf3-4122-9f0d-892e855aaa69",
   "metadata": {},
   "outputs": [],
   "source": [
    "# create for cube\n",
    "\n",
    "def cube(n):\n",
    "    print(n ** 3)"
   ]
  },
  {
   "cell_type": "code",
   "execution_count": 18,
   "id": "a424b362-be25-4b28-9959-7d9484b70799",
   "metadata": {},
   "outputs": [
    {
     "name": "stdout",
     "output_type": "stream",
     "text": [
      "32.76800000000001\n"
     ]
    }
   ],
   "source": [
    "cube(3.2)"
   ]
  },
  {
   "cell_type": "code",
   "execution_count": 20,
   "id": "b48319de-85a2-4d92-8a95-9b3693490a29",
   "metadata": {},
   "outputs": [
    {
     "name": "stdin",
     "output_type": "stream",
     "text": [
      "Enter the number 10\n"
     ]
    },
    {
     "name": "stdout",
     "output_type": "stream",
     "text": [
      "1000\n"
     ]
    }
   ],
   "source": [
    "num = int(input('Enter the number'))\n",
    "cube(num)"
   ]
  },
  {
   "cell_type": "code",
   "execution_count": 22,
   "id": "c2e97cb7-ba90-4daf-a0dd-cd4bd589ccf8",
   "metadata": {},
   "outputs": [],
   "source": [
    "# find the largest number\n",
    "\n",
    "def largest(x, y):\n",
    "    if x > y:\n",
    "        print('Largest:', x)\n",
    "    else:\n",
    "        print('Largest:', y)"
   ]
  },
  {
   "cell_type": "code",
   "execution_count": 24,
   "id": "3a5882fe-0181-4a49-a623-a15c18b88c32",
   "metadata": {},
   "outputs": [
    {
     "name": "stdout",
     "output_type": "stream",
     "text": [
      "Largest: 49\n"
     ]
    }
   ],
   "source": [
    "largest(20, 49)"
   ]
  },
  {
   "cell_type": "code",
   "execution_count": 26,
   "id": "7eff350d-3857-4aa2-991f-36493a5b9d5e",
   "metadata": {},
   "outputs": [],
   "source": [
    "# create a function which will display a string specified number of times\n",
    "\n",
    "def display(name, count):\n",
    "    for n in range(count):\n",
    "        print(name)"
   ]
  },
  {
   "cell_type": "code",
   "execution_count": 28,
   "id": "6621054c-eb80-4459-a441-217768e356e5",
   "metadata": {},
   "outputs": [
    {
     "name": "stdout",
     "output_type": "stream",
     "text": [
      "Aditya\n",
      "Aditya\n",
      "Aditya\n",
      "Aditya\n",
      "Aditya\n"
     ]
    }
   ],
   "source": [
    "display('Aditya', 5)"
   ]
  },
  {
   "cell_type": "code",
   "execution_count": 34,
   "id": "06b54594-5147-4403-a2c4-bc0472011e93",
   "metadata": {},
   "outputs": [],
   "source": [
    "# create a function for factorial\n",
    "\n",
    "def fact(n):\n",
    "    fact = 1\n",
    "    for x in range(1, n + 1):\n",
    "        fact = fact * x\n",
    "    print(fact)"
   ]
  },
  {
   "cell_type": "code",
   "execution_count": 38,
   "id": "6a41375e-31ca-4e78-b577-77ea93a2d051",
   "metadata": {},
   "outputs": [
    {
     "name": "stdout",
     "output_type": "stream",
     "text": [
      "3628800\n"
     ]
    }
   ],
   "source": [
    "fact(10)"
   ]
  },
  {
   "cell_type": "code",
   "execution_count": 40,
   "id": "ef87e218-5381-403c-b3ea-dceba6a59d28",
   "metadata": {},
   "outputs": [],
   "source": [
    "# functions returning values"
   ]
  },
  {
   "cell_type": "code",
   "execution_count": 42,
   "id": "10201767-044a-4915-bc4e-649c7faae602",
   "metadata": {},
   "outputs": [
    {
     "name": "stdout",
     "output_type": "stream",
     "text": [
      "3628800\n"
     ]
    }
   ],
   "source": [
    "a = fact(10)"
   ]
  },
  {
   "cell_type": "code",
   "execution_count": 44,
   "id": "ddbd6fc2-21c6-4282-b984-56bca7e57c7d",
   "metadata": {},
   "outputs": [
    {
     "name": "stdout",
     "output_type": "stream",
     "text": [
      "None\n"
     ]
    }
   ],
   "source": [
    "print(a)"
   ]
  },
  {
   "cell_type": "code",
   "execution_count": 46,
   "id": "b4d5463b-f354-488a-96e4-52b5a241e828",
   "metadata": {},
   "outputs": [],
   "source": [
    "def square(a):\n",
    "    sq = a * a\n",
    "    return sq"
   ]
  },
  {
   "cell_type": "code",
   "execution_count": 48,
   "id": "55402779-660e-4df6-b37b-f1874b3f221c",
   "metadata": {},
   "outputs": [
    {
     "data": {
      "text/plain": [
       "25"
      ]
     },
     "execution_count": 48,
     "metadata": {},
     "output_type": "execute_result"
    }
   ],
   "source": [
    "square(5)"
   ]
  },
  {
   "cell_type": "code",
   "execution_count": 50,
   "id": "145fe4b7-8c1e-4b1a-b3c0-ed3c8cdf3a8e",
   "metadata": {},
   "outputs": [],
   "source": [
    "z = square(10)"
   ]
  },
  {
   "cell_type": "code",
   "execution_count": 52,
   "id": "14589669-57be-4234-9ac2-c278230a1ee4",
   "metadata": {},
   "outputs": [
    {
     "data": {
      "text/plain": [
       "100"
      ]
     },
     "execution_count": 52,
     "metadata": {},
     "output_type": "execute_result"
    }
   ],
   "source": [
    "z"
   ]
  },
  {
   "cell_type": "code",
   "execution_count": 54,
   "id": "fbc9f5c4-e787-4c69-9d3b-f820581414dd",
   "metadata": {},
   "outputs": [],
   "source": [
    "def largest(x, y):\n",
    "    if x > y:\n",
    "        return x\n",
    "    else:\n",
    "        return y"
   ]
  },
  {
   "cell_type": "code",
   "execution_count": 56,
   "id": "dc0b7c42-2d34-4f4a-85a3-49decec9fe3f",
   "metadata": {},
   "outputs": [
    {
     "data": {
      "text/plain": [
       "48"
      ]
     },
     "execution_count": 56,
     "metadata": {},
     "output_type": "execute_result"
    }
   ],
   "source": [
    "largest(10,48)"
   ]
  },
  {
   "cell_type": "code",
   "execution_count": 58,
   "id": "576b7e35-d4a1-4c20-9b29-7018d59ec6ff",
   "metadata": {},
   "outputs": [],
   "source": [
    "# multi return\n",
    "\n",
    "def calc(n):\n",
    "    sq = n * n\n",
    "    cu = n ** 3\n",
    "    return sq, cu"
   ]
  },
  {
   "cell_type": "code",
   "execution_count": 60,
   "id": "044d17f6-87e5-444c-806c-f1f52993a644",
   "metadata": {},
   "outputs": [
    {
     "data": {
      "text/plain": [
       "(100, 1000)"
      ]
     },
     "execution_count": 60,
     "metadata": {},
     "output_type": "execute_result"
    }
   ],
   "source": [
    "calc(10)"
   ]
  },
  {
   "cell_type": "code",
   "execution_count": 62,
   "id": "bf104732-131e-4eb8-847a-770b5695dc03",
   "metadata": {},
   "outputs": [],
   "source": [
    "# default parameters"
   ]
  },
  {
   "cell_type": "code",
   "execution_count": 64,
   "id": "0ee4f7df-d080-41d8-aeea-11d49329161d",
   "metadata": {},
   "outputs": [
    {
     "ename": "TypeError",
     "evalue": "calc() missing 1 required positional argument: 'n'",
     "output_type": "error",
     "traceback": [
      "\u001b[0;31m---------------------------------------------------------------------------\u001b[0m",
      "\u001b[0;31mTypeError\u001b[0m                                 Traceback (most recent call last)",
      "Cell \u001b[0;32mIn[64], line 1\u001b[0m\n\u001b[0;32m----> 1\u001b[0m calc()\n",
      "\u001b[0;31mTypeError\u001b[0m: calc() missing 1 required positional argument: 'n'"
     ]
    }
   ],
   "source": [
    "calc()"
   ]
  },
  {
   "cell_type": "code",
   "execution_count": 76,
   "id": "c8e8a1e3-2032-45c5-9dfa-96f54f035b6a",
   "metadata": {},
   "outputs": [],
   "source": [
    "def add3(x = 3, y = 5, z = 10):\n",
    "    result = x + y + z\n",
    "    return result"
   ]
  },
  {
   "cell_type": "code",
   "execution_count": 92,
   "id": "664afd27-3ee7-4dd9-92c6-991988976fa4",
   "metadata": {},
   "outputs": [
    {
     "data": {
      "text/plain": [
       "18"
      ]
     },
     "execution_count": 92,
     "metadata": {},
     "output_type": "execute_result"
    }
   ],
   "source": [
    "add3()"
   ]
  },
  {
   "cell_type": "code",
   "execution_count": 94,
   "id": "cc2a470b-a69e-455c-b5e3-2e5e058fb5e1",
   "metadata": {},
   "outputs": [
    {
     "data": {
      "text/plain": [
       "18"
      ]
     },
     "execution_count": 94,
     "metadata": {},
     "output_type": "execute_result"
    }
   ],
   "source": [
    "add3(2, z = 11)"
   ]
  },
  {
   "cell_type": "code",
   "execution_count": 96,
   "id": "dbca854e-60e0-41e7-b0a0-b8def106fec2",
   "metadata": {},
   "outputs": [],
   "source": [
    "# dynamic variable length"
   ]
  },
  {
   "cell_type": "code",
   "execution_count": 98,
   "id": "06ec995a-1755-4020-8f19-c9a02800f524",
   "metadata": {},
   "outputs": [],
   "source": [
    "def dyna(*args):\n",
    "    for n in args:\n",
    "        print(n)"
   ]
  },
  {
   "cell_type": "code",
   "execution_count": 100,
   "id": "1f062c13-6e9a-480b-9acb-132889004378",
   "metadata": {},
   "outputs": [
    {
     "name": "stdout",
     "output_type": "stream",
     "text": [
      "23\n",
      "56\n",
      "12\n",
      "89\n",
      "300\n"
     ]
    }
   ],
   "source": [
    "dyna(23,56,12,89,300)"
   ]
  },
  {
   "cell_type": "code",
   "execution_count": 102,
   "id": "0b7dc40d-f9df-4348-851d-3e2268d2e9a6",
   "metadata": {},
   "outputs": [
    {
     "name": "stdout",
     "output_type": "stream",
     "text": [
      "34\n",
      "11\n"
     ]
    }
   ],
   "source": [
    "dyna(34, 11)"
   ]
  },
  {
   "cell_type": "code",
   "execution_count": 104,
   "id": "2e9741a2-9c6a-4bad-a9f7-25b08eff696d",
   "metadata": {},
   "outputs": [],
   "source": [
    "# take dynamic variable for addition\n",
    "\n",
    "def add(*args):\n",
    "    a = 0\n",
    "    for n in args:\n",
    "        a = a + n\n",
    "    return a"
   ]
  },
  {
   "cell_type": "code",
   "execution_count": 106,
   "id": "6e93446a-998a-47ef-9168-76ca51d9c94d",
   "metadata": {},
   "outputs": [
    {
     "data": {
      "text/plain": [
       "1324"
      ]
     },
     "execution_count": 106,
     "metadata": {},
     "output_type": "execute_result"
    }
   ],
   "source": [
    "add(12, 45, 67, 1200)"
   ]
  },
  {
   "cell_type": "code",
   "execution_count": 108,
   "id": "7bb86d29-28c6-4516-9824-8e182d1464ca",
   "metadata": {},
   "outputs": [],
   "source": [
    "# lambda / anonymous function/ one liner function"
   ]
  },
  {
   "cell_type": "code",
   "execution_count": 114,
   "id": "f944c98c-39dc-41c5-9ffb-b85dd4ecd96b",
   "metadata": {},
   "outputs": [],
   "source": [
    "square = lambda a: a * a\n",
    "# fun_name = lambda variables: expression"
   ]
  },
  {
   "cell_type": "code",
   "execution_count": 115,
   "id": "fdbb704a-0b47-4afd-aa41-14e8fc643b50",
   "metadata": {},
   "outputs": [
    {
     "data": {
      "text/plain": [
       "9"
      ]
     },
     "execution_count": 115,
     "metadata": {},
     "output_type": "execute_result"
    }
   ],
   "source": [
    "square(3)"
   ]
  },
  {
   "cell_type": "code",
   "execution_count": 118,
   "id": "becb65e5-3bda-4dc7-9e96-c5cf71bff229",
   "metadata": {},
   "outputs": [],
   "source": [
    "add = lambda a,b: a + b"
   ]
  },
  {
   "cell_type": "code",
   "execution_count": 120,
   "id": "9189d08c-3251-4a23-ab1a-c25f1291d256",
   "metadata": {},
   "outputs": [
    {
     "data": {
      "text/plain": [
       "8"
      ]
     },
     "execution_count": 120,
     "metadata": {},
     "output_type": "execute_result"
    }
   ],
   "source": [
    "add(3, 5)"
   ]
  },
  {
   "cell_type": "code",
   "execution_count": 122,
   "id": "5bfbfc45-5c64-4471-acaf-eeba544a26b1",
   "metadata": {},
   "outputs": [],
   "source": [
    "# filter"
   ]
  },
  {
   "cell_type": "code",
   "execution_count": 124,
   "id": "324de039-d4c6-4a49-9133-5a44a2c9e979",
   "metadata": {},
   "outputs": [],
   "source": [
    "num = [34, 56, 10, 23, 24, 49, 77]"
   ]
  },
  {
   "cell_type": "code",
   "execution_count": 128,
   "id": "c960080c-f4e6-4d7a-bdb8-18786a716b17",
   "metadata": {},
   "outputs": [
    {
     "data": {
      "text/plain": [
       "[56, 49, 77]"
      ]
     },
     "execution_count": 128,
     "metadata": {},
     "output_type": "execute_result"
    }
   ],
   "source": [
    "new = filter(lambda x: x > 40, num)\n",
    "list(new)"
   ]
  },
  {
   "cell_type": "code",
   "execution_count": 130,
   "id": "768a09db-d329-4991-940f-a92398b56e9e",
   "metadata": {},
   "outputs": [
    {
     "data": {
      "text/plain": [
       "[17.0, 28.0, 5.0, 11.5, 12.0, 24.5, 38.5]"
      ]
     },
     "execution_count": 130,
     "metadata": {},
     "output_type": "execute_result"
    }
   ],
   "source": [
    "new1 = map(lambda a: a/2, num)\n",
    "list(new1)"
   ]
  },
  {
   "cell_type": "code",
   "execution_count": 132,
   "id": "0dc09cc8-ffa4-47d8-b5bd-2cf4520f5267",
   "metadata": {},
   "outputs": [
    {
     "data": {
      "text/plain": [
       "[False, True, False, False, False, True, True]"
      ]
     },
     "execution_count": 132,
     "metadata": {},
     "output_type": "execute_result"
    }
   ],
   "source": [
    "new = map(lambda x: x > 40, num)\n",
    "list(new)"
   ]
  },
  {
   "cell_type": "markdown",
   "id": "7845bbd3-0554-4f46-84d9-b4cfde357e13",
   "metadata": {},
   "source": [
    "# Modules"
   ]
  },
  {
   "cell_type": "code",
   "execution_count": 135,
   "id": "bffd1aef-1994-49b4-8b95-8bc5a65b2d94",
   "metadata": {},
   "outputs": [],
   "source": [
    "# math"
   ]
  },
  {
   "cell_type": "code",
   "execution_count": 141,
   "id": "5056e030-39dd-41d0-8a1c-dd26420f79fb",
   "metadata": {},
   "outputs": [],
   "source": [
    "import math as m"
   ]
  },
  {
   "cell_type": "code",
   "execution_count": 143,
   "id": "2dc484a6-7ecd-49a1-bac2-9a393dcfea40",
   "metadata": {},
   "outputs": [
    {
     "data": {
      "text/plain": [
       "7.0"
      ]
     },
     "execution_count": 143,
     "metadata": {},
     "output_type": "execute_result"
    }
   ],
   "source": [
    "m.sqrt(49)"
   ]
  },
  {
   "cell_type": "code",
   "execution_count": 145,
   "id": "d6843936-7581-4e4b-a572-09a51fff1cc0",
   "metadata": {},
   "outputs": [
    {
     "name": "stdout",
     "output_type": "stream",
     "text": [
      "Help on module math:\n",
      "\n",
      "NAME\n",
      "    math\n",
      "\n",
      "MODULE REFERENCE\n",
      "    https://docs.python.org/3.11/library/math.html\n",
      "    \n",
      "    The following documentation is automatically generated from the Python\n",
      "    source files.  It may be incomplete, incorrect or include features that\n",
      "    are considered implementation detail and may vary between Python\n",
      "    implementations.  When in doubt, consult the module reference at the\n",
      "    location listed above.\n",
      "\n",
      "DESCRIPTION\n",
      "    This module provides access to the mathematical functions\n",
      "    defined by the C standard.\n",
      "\n",
      "FUNCTIONS\n",
      "    acos(x, /)\n",
      "        Return the arc cosine (measured in radians) of x.\n",
      "        \n",
      "        The result is between 0 and pi.\n",
      "    \n",
      "    acosh(x, /)\n",
      "        Return the inverse hyperbolic cosine of x.\n",
      "    \n",
      "    asin(x, /)\n",
      "        Return the arc sine (measured in radians) of x.\n",
      "        \n",
      "        The result is between -pi/2 and pi/2.\n",
      "    \n",
      "    asinh(x, /)\n",
      "        Return the inverse hyperbolic sine of x.\n",
      "    \n",
      "    atan(x, /)\n",
      "        Return the arc tangent (measured in radians) of x.\n",
      "        \n",
      "        The result is between -pi/2 and pi/2.\n",
      "    \n",
      "    atan2(y, x, /)\n",
      "        Return the arc tangent (measured in radians) of y/x.\n",
      "        \n",
      "        Unlike atan(y/x), the signs of both x and y are considered.\n",
      "    \n",
      "    atanh(x, /)\n",
      "        Return the inverse hyperbolic tangent of x.\n",
      "    \n",
      "    cbrt(x, /)\n",
      "        Return the cube root of x.\n",
      "    \n",
      "    ceil(x, /)\n",
      "        Return the ceiling of x as an Integral.\n",
      "        \n",
      "        This is the smallest integer >= x.\n",
      "    \n",
      "    comb(n, k, /)\n",
      "        Number of ways to choose k items from n items without repetition and without order.\n",
      "        \n",
      "        Evaluates to n! / (k! * (n - k)!) when k <= n and evaluates\n",
      "        to zero when k > n.\n",
      "        \n",
      "        Also called the binomial coefficient because it is equivalent\n",
      "        to the coefficient of k-th term in polynomial expansion of the\n",
      "        expression (1 + x)**n.\n",
      "        \n",
      "        Raises TypeError if either of the arguments are not integers.\n",
      "        Raises ValueError if either of the arguments are negative.\n",
      "    \n",
      "    copysign(x, y, /)\n",
      "        Return a float with the magnitude (absolute value) of x but the sign of y.\n",
      "        \n",
      "        On platforms that support signed zeros, copysign(1.0, -0.0)\n",
      "        returns -1.0.\n",
      "    \n",
      "    cos(x, /)\n",
      "        Return the cosine of x (measured in radians).\n",
      "    \n",
      "    cosh(x, /)\n",
      "        Return the hyperbolic cosine of x.\n",
      "    \n",
      "    degrees(x, /)\n",
      "        Convert angle x from radians to degrees.\n",
      "    \n",
      "    dist(p, q, /)\n",
      "        Return the Euclidean distance between two points p and q.\n",
      "        \n",
      "        The points should be specified as sequences (or iterables) of\n",
      "        coordinates.  Both inputs must have the same dimension.\n",
      "        \n",
      "        Roughly equivalent to:\n",
      "            sqrt(sum((px - qx) ** 2.0 for px, qx in zip(p, q)))\n",
      "    \n",
      "    erf(x, /)\n",
      "        Error function at x.\n",
      "    \n",
      "    erfc(x, /)\n",
      "        Complementary error function at x.\n",
      "    \n",
      "    exp(x, /)\n",
      "        Return e raised to the power of x.\n",
      "    \n",
      "    exp2(x, /)\n",
      "        Return 2 raised to the power of x.\n",
      "    \n",
      "    expm1(x, /)\n",
      "        Return exp(x)-1.\n",
      "        \n",
      "        This function avoids the loss of precision involved in the direct evaluation of exp(x)-1 for small x.\n",
      "    \n",
      "    fabs(x, /)\n",
      "        Return the absolute value of the float x.\n",
      "    \n",
      "    factorial(n, /)\n",
      "        Find n!.\n",
      "        \n",
      "        Raise a ValueError if x is negative or non-integral.\n",
      "    \n",
      "    floor(x, /)\n",
      "        Return the floor of x as an Integral.\n",
      "        \n",
      "        This is the largest integer <= x.\n",
      "    \n",
      "    fmod(x, y, /)\n",
      "        Return fmod(x, y), according to platform C.\n",
      "        \n",
      "        x % y may differ.\n",
      "    \n",
      "    frexp(x, /)\n",
      "        Return the mantissa and exponent of x, as pair (m, e).\n",
      "        \n",
      "        m is a float and e is an int, such that x = m * 2.**e.\n",
      "        If x is 0, m and e are both 0.  Else 0.5 <= abs(m) < 1.0.\n",
      "    \n",
      "    fsum(seq, /)\n",
      "        Return an accurate floating point sum of values in the iterable seq.\n",
      "        \n",
      "        Assumes IEEE-754 floating point arithmetic.\n",
      "    \n",
      "    gamma(x, /)\n",
      "        Gamma function at x.\n",
      "    \n",
      "    gcd(*integers)\n",
      "        Greatest Common Divisor.\n",
      "    \n",
      "    hypot(...)\n",
      "        hypot(*coordinates) -> value\n",
      "        \n",
      "        Multidimensional Euclidean distance from the origin to a point.\n",
      "        \n",
      "        Roughly equivalent to:\n",
      "            sqrt(sum(x**2 for x in coordinates))\n",
      "        \n",
      "        For a two dimensional point (x, y), gives the hypotenuse\n",
      "        using the Pythagorean theorem:  sqrt(x*x + y*y).\n",
      "        \n",
      "        For example, the hypotenuse of a 3/4/5 right triangle is:\n",
      "        \n",
      "            >>> hypot(3.0, 4.0)\n",
      "            5.0\n",
      "    \n",
      "    isclose(a, b, *, rel_tol=1e-09, abs_tol=0.0)\n",
      "        Determine whether two floating point numbers are close in value.\n",
      "        \n",
      "          rel_tol\n",
      "            maximum difference for being considered \"close\", relative to the\n",
      "            magnitude of the input values\n",
      "          abs_tol\n",
      "            maximum difference for being considered \"close\", regardless of the\n",
      "            magnitude of the input values\n",
      "        \n",
      "        Return True if a is close in value to b, and False otherwise.\n",
      "        \n",
      "        For the values to be considered close, the difference between them\n",
      "        must be smaller than at least one of the tolerances.\n",
      "        \n",
      "        -inf, inf and NaN behave similarly to the IEEE 754 Standard.  That\n",
      "        is, NaN is not close to anything, even itself.  inf and -inf are\n",
      "        only close to themselves.\n",
      "    \n",
      "    isfinite(x, /)\n",
      "        Return True if x is neither an infinity nor a NaN, and False otherwise.\n",
      "    \n",
      "    isinf(x, /)\n",
      "        Return True if x is a positive or negative infinity, and False otherwise.\n",
      "    \n",
      "    isnan(x, /)\n",
      "        Return True if x is a NaN (not a number), and False otherwise.\n",
      "    \n",
      "    isqrt(n, /)\n",
      "        Return the integer part of the square root of the input.\n",
      "    \n",
      "    lcm(*integers)\n",
      "        Least Common Multiple.\n",
      "    \n",
      "    ldexp(x, i, /)\n",
      "        Return x * (2**i).\n",
      "        \n",
      "        This is essentially the inverse of frexp().\n",
      "    \n",
      "    lgamma(x, /)\n",
      "        Natural logarithm of absolute value of Gamma function at x.\n",
      "    \n",
      "    log(...)\n",
      "        log(x, [base=math.e])\n",
      "        Return the logarithm of x to the given base.\n",
      "        \n",
      "        If the base not specified, returns the natural logarithm (base e) of x.\n",
      "    \n",
      "    log10(x, /)\n",
      "        Return the base 10 logarithm of x.\n",
      "    \n",
      "    log1p(x, /)\n",
      "        Return the natural logarithm of 1+x (base e).\n",
      "        \n",
      "        The result is computed in a way which is accurate for x near zero.\n",
      "    \n",
      "    log2(x, /)\n",
      "        Return the base 2 logarithm of x.\n",
      "    \n",
      "    modf(x, /)\n",
      "        Return the fractional and integer parts of x.\n",
      "        \n",
      "        Both results carry the sign of x and are floats.\n",
      "    \n",
      "    nextafter(x, y, /)\n",
      "        Return the next floating-point value after x towards y.\n",
      "    \n",
      "    perm(n, k=None, /)\n",
      "        Number of ways to choose k items from n items without repetition and with order.\n",
      "        \n",
      "        Evaluates to n! / (n - k)! when k <= n and evaluates\n",
      "        to zero when k > n.\n",
      "        \n",
      "        If k is not specified or is None, then k defaults to n\n",
      "        and the function returns n!.\n",
      "        \n",
      "        Raises TypeError if either of the arguments are not integers.\n",
      "        Raises ValueError if either of the arguments are negative.\n",
      "    \n",
      "    pow(x, y, /)\n",
      "        Return x**y (x to the power of y).\n",
      "    \n",
      "    prod(iterable, /, *, start=1)\n",
      "        Calculate the product of all the elements in the input iterable.\n",
      "        \n",
      "        The default start value for the product is 1.\n",
      "        \n",
      "        When the iterable is empty, return the start value.  This function is\n",
      "        intended specifically for use with numeric values and may reject\n",
      "        non-numeric types.\n",
      "    \n",
      "    radians(x, /)\n",
      "        Convert angle x from degrees to radians.\n",
      "    \n",
      "    remainder(x, y, /)\n",
      "        Difference between x and the closest integer multiple of y.\n",
      "        \n",
      "        Return x - n*y where n*y is the closest integer multiple of y.\n",
      "        In the case where x is exactly halfway between two multiples of\n",
      "        y, the nearest even value of n is used. The result is always exact.\n",
      "    \n",
      "    sin(x, /)\n",
      "        Return the sine of x (measured in radians).\n",
      "    \n",
      "    sinh(x, /)\n",
      "        Return the hyperbolic sine of x.\n",
      "    \n",
      "    sqrt(x, /)\n",
      "        Return the square root of x.\n",
      "    \n",
      "    tan(x, /)\n",
      "        Return the tangent of x (measured in radians).\n",
      "    \n",
      "    tanh(x, /)\n",
      "        Return the hyperbolic tangent of x.\n",
      "    \n",
      "    trunc(x, /)\n",
      "        Truncates the Real x to the nearest Integral toward 0.\n",
      "        \n",
      "        Uses the __trunc__ magic method.\n",
      "    \n",
      "    ulp(x, /)\n",
      "        Return the value of the least significant bit of the float x.\n",
      "\n",
      "DATA\n",
      "    e = 2.718281828459045\n",
      "    inf = inf\n",
      "    nan = nan\n",
      "    pi = 3.141592653589793\n",
      "    tau = 6.283185307179586\n",
      "\n",
      "FILE\n",
      "    /home/aditya/anaconda3/lib/python3.11/lib-dynload/math.cpython-311-x86_64-linux-gnu.so\n",
      "\n",
      "\n"
     ]
    }
   ],
   "source": [
    "help(m)"
   ]
  },
  {
   "cell_type": "code",
   "execution_count": 147,
   "id": "18046c02-604d-419c-9738-92c0f81e3c10",
   "metadata": {},
   "outputs": [],
   "source": [
    "import time as t"
   ]
  },
  {
   "cell_type": "code",
   "execution_count": 149,
   "id": "0685305d-a9ba-477a-aa2d-93daa9e69da2",
   "metadata": {},
   "outputs": [
    {
     "data": {
      "text/plain": [
       "'Sat Oct  5 12:24:05 2024'"
      ]
     },
     "execution_count": 149,
     "metadata": {},
     "output_type": "execute_result"
    }
   ],
   "source": [
    "t.asctime()"
   ]
  },
  {
   "cell_type": "code",
   "execution_count": 153,
   "id": "d7ab94f6-826c-4ed6-a58a-db712d849da9",
   "metadata": {},
   "outputs": [
    {
     "name": "stdout",
     "output_type": "stream",
     "text": [
      "Wake up\n",
      "zzzz\n"
     ]
    }
   ],
   "source": [
    "print('Wake up')\n",
    "t.sleep(5)\n",
    "print('zzzz')"
   ]
  },
  {
   "cell_type": "code",
   "execution_count": 161,
   "id": "a29f83a0-d440-47fc-aa4e-38b67edf8442",
   "metadata": {},
   "outputs": [
    {
     "data": {
      "text/plain": [
       "1.0"
      ]
     },
     "execution_count": 161,
     "metadata": {},
     "output_type": "execute_result"
    }
   ],
   "source": [
    "m.cos(0)"
   ]
  },
  {
   "cell_type": "code",
   "execution_count": 163,
   "id": "326caee4-9c30-4ade-9a1c-8ed3b27e7066",
   "metadata": {},
   "outputs": [],
   "source": [
    "import mod1"
   ]
  },
  {
   "cell_type": "code",
   "execution_count": 165,
   "id": "863159dc-26a1-4b15-ae35-e8a4063ab74c",
   "metadata": {},
   "outputs": [
    {
     "name": "stdout",
     "output_type": "stream",
     "text": [
      "Module Demo\n"
     ]
    }
   ],
   "source": [
    "mod1.sh()"
   ]
  },
  {
   "cell_type": "code",
   "execution_count": 167,
   "id": "f2999a99-463f-46bb-aff0-5a1b405d927f",
   "metadata": {},
   "outputs": [
    {
     "name": "stdout",
     "output_type": "stream",
     "text": [
      "Help on module mod1:\n",
      "\n",
      "NAME\n",
      "    mod1 - Created on Sat Oct  5 12:34:49 2024\n",
      "\n",
      "DESCRIPTION\n",
      "    @author: aditya\n",
      "\n",
      "FUNCTIONS\n",
      "    sh()\n",
      "\n",
      "FILE\n",
      "    /home/aditya/MITU BATCHES/MITU SEP 24/3Oct5-6/mod1.py\n",
      "\n",
      "\n"
     ]
    }
   ],
   "source": [
    "help(mod1)"
   ]
  },
  {
   "cell_type": "code",
   "execution_count": null,
   "id": "6d80d31f-f135-4afd-b42f-e5b0c3f7fe65",
   "metadata": {},
   "outputs": [],
   "source": []
  }
 ],
 "metadata": {
  "kernelspec": {
   "display_name": "Python 3 (ipykernel)",
   "language": "python",
   "name": "python3"
  },
  "language_info": {
   "codemirror_mode": {
    "name": "ipython",
    "version": 3
   },
   "file_extension": ".py",
   "mimetype": "text/x-python",
   "name": "python",
   "nbconvert_exporter": "python",
   "pygments_lexer": "ipython3",
   "version": "3.11.9"
  }
 },
 "nbformat": 4,
 "nbformat_minor": 5
}

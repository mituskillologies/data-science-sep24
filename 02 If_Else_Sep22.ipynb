{
 "cells": [
  {
   "cell_type": "code",
   "execution_count": 1,
   "id": "e9b6b6c5-4765-4157-b207-67a17e6b51e6",
   "metadata": {},
   "outputs": [
    {
     "name": "stdin",
     "output_type": "stream",
     "text": [
      "Enter the number 57\n"
     ]
    },
    {
     "name": "stdout",
     "output_type": "stream",
     "text": [
      "ok\n"
     ]
    }
   ],
   "source": [
    "num = int(input('Enter the number'))\n",
    "\n",
    "if num > 50:\n",
    "    print('ok')"
   ]
  },
  {
   "cell_type": "code",
   "execution_count": 5,
   "id": "850d2980-8d46-4068-b341-63926108453a",
   "metadata": {},
   "outputs": [
    {
     "name": "stdin",
     "output_type": "stream",
     "text": [
      "Enter the number 2\n"
     ]
    }
   ],
   "source": [
    "num = int(input('Enter the number'))\n",
    "\n",
    "if num > 50:\n",
    "    print('ok')\n",
    "    print('Bye')"
   ]
  },
  {
   "cell_type": "code",
   "execution_count": 11,
   "id": "5a6331b2-a65d-426b-a53f-82fda9917cd7",
   "metadata": {},
   "outputs": [
    {
     "name": "stdin",
     "output_type": "stream",
     "text": [
      "Enter the number 0\n"
     ]
    },
    {
     "name": "stdout",
     "output_type": "stream",
     "text": [
      "Negative\n"
     ]
    }
   ],
   "source": [
    "# check if the number is positive or negative\n",
    "\n",
    "num = int(input('Enter the number'))\n",
    "\n",
    "if num > 0:\n",
    "    print('Positive')\n",
    "else:\n",
    "    print('Negative')"
   ]
  },
  {
   "cell_type": "code",
   "execution_count": 17,
   "id": "a5d6da5d-d76e-48bf-a909-cb228c18f718",
   "metadata": {},
   "outputs": [
    {
     "name": "stdin",
     "output_type": "stream",
     "text": [
      "Enter the number 0\n"
     ]
    },
    {
     "name": "stdout",
     "output_type": "stream",
     "text": [
      "Zero\n"
     ]
    }
   ],
   "source": [
    "num = int(input('Enter the number'))\n",
    "\n",
    "if num > 0:\n",
    "    print('Positive')\n",
    "elif num == 0:\n",
    "    print('Zero')\n",
    "else:\n",
    "    print('Negative')"
   ]
  },
  {
   "cell_type": "code",
   "execution_count": 27,
   "id": "aa73825b-278a-48d3-93ed-422dfcbed3ea",
   "metadata": {},
   "outputs": [
    {
     "name": "stdin",
     "output_type": "stream",
     "text": [
      "Enter the number 7\n"
     ]
    },
    {
     "name": "stdout",
     "output_type": "stream",
     "text": [
      "Odd\n"
     ]
    }
   ],
   "source": [
    "# check if the number is even or odd\n",
    "\n",
    "num = int(input('Enter the number'))\n",
    "\n",
    "if num % 2 == 0:\n",
    "    print('Even')\n",
    "else:\n",
    "    print('Odd')"
   ]
  },
  {
   "cell_type": "code",
   "execution_count": 33,
   "id": "e67e32b5-d6e6-4524-bfa6-d0de0020ecb6",
   "metadata": {},
   "outputs": [
    {
     "name": "stdin",
     "output_type": "stream",
     "text": [
      "Enter the number 20\n"
     ]
    },
    {
     "name": "stdout",
     "output_type": "stream",
     "text": [
      "no\n"
     ]
    }
   ],
   "source": [
    "# check if the number is in between 50 and 100\n",
    "\n",
    "num = int(input('Enter the number'))\n",
    "\n",
    "if num > 50:\n",
    "    if num < 100:\n",
    "        print('OK')\n",
    "    else:\n",
    "        print('not less than 100')\n",
    "else:\n",
    "    print('no')"
   ]
  },
  {
   "cell_type": "code",
   "execution_count": 39,
   "id": "c308036a-1c9d-4569-b773-fa58dc58d9fc",
   "metadata": {},
   "outputs": [
    {
     "name": "stdin",
     "output_type": "stream",
     "text": [
      "Enter the number 30\n"
     ]
    },
    {
     "name": "stdout",
     "output_type": "stream",
     "text": [
      "NO\n"
     ]
    }
   ],
   "source": [
    "num = int(input('Enter the number'))\n",
    "\n",
    "if num > 50 and num < 100:\n",
    "    print('OK')\n",
    "else:\n",
    "    print('NO')"
   ]
  },
  {
   "cell_type": "code",
   "execution_count": 43,
   "id": "22373b6c-205a-4bc0-be33-2d11bfa43a52",
   "metadata": {},
   "outputs": [
    {
     "name": "stdin",
     "output_type": "stream",
     "text": [
      "Enter the purchase cost  1000\n",
      "Enter the selling cost 2000\n"
     ]
    },
    {
     "name": "stdout",
     "output_type": "stream",
     "text": [
      "Profit of: 1000.0\n"
     ]
    }
   ],
   "source": [
    "# read the purchase and selling cost\n",
    "# find out profit or loss... and how much ?\n",
    "\n",
    "\n",
    "purchase_cost = float(input('Enter the purchase cost '))\n",
    "selling_cost = float(input('Enter the selling cost'))\n",
    "\n",
    "if selling_cost > purchase_cost:\n",
    "    print('Profit of:', selling_cost - purchase_cost)\n",
    "else:\n",
    "    print('Loss of:', purchase_cost - selling_cost)"
   ]
  },
  {
   "cell_type": "code",
   "execution_count": 49,
   "id": "0b6886c9-ebae-41a9-8b2d-ae1b634a0455",
   "metadata": {},
   "outputs": [
    {
     "name": "stdin",
     "output_type": "stream",
     "text": [
      "Enter the number 2\n",
      "Enter the number 4\n",
      "Enter the number 100\n"
     ]
    },
    {
     "name": "stdout",
     "output_type": "stream",
     "text": [
      "Largest is num3: 100\n"
     ]
    }
   ],
   "source": [
    "# find the largest of 3 numbers... use nested if only\n",
    "\n",
    "num1 = int(input('Enter the number'))\n",
    "num2 = int(input('Enter the number'))\n",
    "num3 = int(input('Enter the number'))\n",
    "\n",
    "if num1 > num2:\n",
    "    if num1 > num3:\n",
    "        print('Largest is num1:', num1)\n",
    "    else:\n",
    "        print('Largest is num3:', num3)\n",
    "else:\n",
    "    if num2 > num3:\n",
    "        print('Largest is num2:', num2)\n",
    "    else:\n",
    "        print('Largest is num3:', num3)"
   ]
  },
  {
   "cell_type": "code",
   "execution_count": 59,
   "id": "9906d34c-732c-4b94-a8b5-58ad0b5f6de0",
   "metadata": {},
   "outputs": [
    {
     "name": "stdin",
     "output_type": "stream",
     "text": [
      "Enter the year 1800\n"
     ]
    },
    {
     "name": "stdout",
     "output_type": "stream",
     "text": [
      "Century but not leap\n"
     ]
    }
   ],
   "source": [
    "# Leap or not\n",
    "# 2020 leap\n",
    "# 2017 not leap\n",
    "# 2000 leap\n",
    "# 1800 not leap\n",
    "\n",
    "\n",
    "year = int(input('Enter the year'))\n",
    "\n",
    "if year % 4 == 0:\n",
    "    if year % 100 == 0:\n",
    "        if year % 400 == 0:\n",
    "            print('Leap century year')\n",
    "        else:\n",
    "            print('Century but not leap')\n",
    "    else:\n",
    "        print('Leap year')\n",
    "else:\n",
    "    print('Not leap')"
   ]
  },
  {
   "cell_type": "code",
   "execution_count": 67,
   "id": "041bb63b-c870-4d21-bdf9-107f52ea164d",
   "metadata": {},
   "outputs": [],
   "source": [
    "'''\n",
    "read the marks of physics, chem, math out of 100\n",
    "based on average score do the following\n",
    "\n",
    "> 75 => distinction\n",
    "60 to 75 => first class\n",
    "50 to 60 => sencond class\n",
    "40 to 50 => pass\n",
    "< 40 => fail''';"
   ]
  },
  {
   "cell_type": "code",
   "execution_count": 73,
   "id": "e9279540-2121-42b6-8bea-fecdeb0dba36",
   "metadata": {},
   "outputs": [
    {
     "name": "stdin",
     "output_type": "stream",
     "text": [
      "Enter the physics score 20\n",
      "Enter the chem score 30\n",
      "Enter the maths score 40\n"
     ]
    },
    {
     "name": "stdout",
     "output_type": "stream",
     "text": [
      "30.0 : Thoda padh bhi liya karo\n"
     ]
    }
   ],
   "source": [
    "physics = float(input('Enter the physics score'))\n",
    "chem = float(input('Enter the chem score'))\n",
    "maths = float(input('Enter the maths score'))\n",
    "\n",
    "ave = (physics + chem + maths)/3\n",
    "\n",
    "if ave >= 75:\n",
    "    print(ave,': Distinction')\n",
    "elif ave >= 60:\n",
    "    print(ave,': First Class')\n",
    "elif ave >= 50:\n",
    "    print(ave,': Second Class')\n",
    "elif ave >=40:\n",
    "    print(ave,': Pass')\n",
    "else:\n",
    "    print(ave,': Thoda padh bhi liya karo')"
   ]
  },
  {
   "cell_type": "code",
   "execution_count": 83,
   "id": "0c97865e-a674-4722-850b-dd212fc61d77",
   "metadata": {},
   "outputs": [
    {
     "name": "stdin",
     "output_type": "stream",
     "text": [
      "Enter the number 4\n"
     ]
    },
    {
     "name": "stdout",
     "output_type": "stream",
     "text": [
      "MENU:\n",
      "1.Square\n",
      "2.Cube\n",
      "3.positive or negative\n"
     ]
    },
    {
     "name": "stdin",
     "output_type": "stream",
     "text": [
      "Enter the choice 2\n"
     ]
    },
    {
     "name": "stdout",
     "output_type": "stream",
     "text": [
      "Cube is 64\n"
     ]
    }
   ],
   "source": [
    "num = int(input('Enter the number'))\n",
    "\n",
    "print(\"MENU:\\n1.Square\\n2.Cube\\n3.positive or negative\")\n",
    "\n",
    "ch = int(input('Enter the choice'))\n",
    "\n",
    "if ch == 1:\n",
    "    print('Square is', num * num)\n",
    "elif ch == 2:\n",
    "    print('Cube is', num ** 3)\n",
    "elif ch == 3:\n",
    "    if num > 0:\n",
    "        print('Positive')\n",
    "    else:\n",
    "        print('Number is negative')\n",
    "else:\n",
    "    print('Please visit the nearest hospital!!!!!')"
   ]
  },
  {
   "cell_type": "code",
   "execution_count": null,
   "id": "f89bb237-10b5-41e8-9a27-63955b58803f",
   "metadata": {},
   "outputs": [],
   "source": []
  }
 ],
 "metadata": {
  "kernelspec": {
   "display_name": "Python 3 (ipykernel)",
   "language": "python",
   "name": "python3"
  },
  "language_info": {
   "codemirror_mode": {
    "name": "ipython",
    "version": 3
   },
   "file_extension": ".py",
   "mimetype": "text/x-python",
   "name": "python",
   "nbconvert_exporter": "python",
   "pygments_lexer": "ipython3",
   "version": "3.11.9"
  }
 },
 "nbformat": 4,
 "nbformat_minor": 5
}

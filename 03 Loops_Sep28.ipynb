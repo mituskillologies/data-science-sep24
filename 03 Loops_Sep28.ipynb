{
 "cells": [
  {
   "cell_type": "markdown",
   "id": "b2418c25-9741-48cf-a460-07dd25aae95c",
   "metadata": {},
   "source": [
    "# While Loop"
   ]
  },
  {
   "cell_type": "code",
   "execution_count": 3,
   "id": "888c9d1d-db69-4edc-a250-3965a0300ba7",
   "metadata": {},
   "outputs": [],
   "source": [
    "# print the name 10 times"
   ]
  },
  {
   "cell_type": "code",
   "execution_count": 7,
   "id": "4b5b8a19-f90e-4f9f-a5e1-e22fb075d30c",
   "metadata": {},
   "outputs": [
    {
     "name": "stdout",
     "output_type": "stream",
     "text": [
      "Aditya Aditya Aditya Aditya Aditya Aditya Aditya Aditya Aditya Aditya "
     ]
    }
   ],
   "source": [
    "count = 0\n",
    "\n",
    "while count < 10:\n",
    "    print('Aditya', end = ' ')\n",
    "    count += 1"
   ]
  },
  {
   "cell_type": "code",
   "execution_count": 13,
   "id": "ca78995b-afd1-48fe-82df-411f6d39d2f8",
   "metadata": {},
   "outputs": [
    {
     "name": "stdout",
     "output_type": "stream",
     "text": [
      "5 6 7 8 9 10 11 12 13 14 15 Goodbye!!!\n"
     ]
    }
   ],
   "source": [
    "# print the numbers from 5 to 15\n",
    "\n",
    "count = 5\n",
    "\n",
    "while count <= 15:\n",
    "    print(count, end = ' ')\n",
    "    count += 1\n",
    "\n",
    "print('Goodbye!!!')"
   ]
  },
  {
   "cell_type": "code",
   "execution_count": 15,
   "id": "b615ccf6-e23b-47b8-bbea-4246e2a0e719",
   "metadata": {},
   "outputs": [
    {
     "data": {
      "text/plain": [
       "16"
      ]
     },
     "execution_count": 15,
     "metadata": {},
     "output_type": "execute_result"
    }
   ],
   "source": [
    "count"
   ]
  },
  {
   "cell_type": "code",
   "execution_count": 17,
   "id": "404be4ac-bf6a-44fa-8366-9771627fa0f0",
   "metadata": {},
   "outputs": [
    {
     "name": "stdout",
     "output_type": "stream",
     "text": [
      "Addition: 55\n"
     ]
    }
   ],
   "source": [
    "# find the addition of first 10 numbers (1 to 10)\n",
    "\n",
    "count = 1\n",
    "add = 0\n",
    "\n",
    "while count <= 10:\n",
    "    add = add + count\n",
    "    count += 1\n",
    "\n",
    "print('Addition:', add)"
   ]
  },
  {
   "cell_type": "code",
   "execution_count": 19,
   "id": "2a15a83f-0e49-457e-abe8-ac51b6f17f86",
   "metadata": {},
   "outputs": [
    {
     "name": "stdout",
     "output_type": "stream",
     "text": [
      "Addition: 100\n"
     ]
    }
   ],
   "source": [
    "# find the addition of odd numbers from 1 to 20\n",
    "\n",
    "count = 1\n",
    "add = 0\n",
    "\n",
    "while count <= 20:\n",
    "    add = add + count\n",
    "    count += 2\n",
    "\n",
    "print('Addition:', add)"
   ]
  },
  {
   "cell_type": "code",
   "execution_count": 27,
   "id": "421ce3cd-b1b9-4513-bd10-95aa16e70d0d",
   "metadata": {},
   "outputs": [
    {
     "name": "stdin",
     "output_type": "stream",
     "text": [
      "Enter the number 3\n"
     ]
    },
    {
     "name": "stdout",
     "output_type": "stream",
     "text": [
      "factorial: 6\n"
     ]
    }
   ],
   "source": [
    "# factorials\n",
    "# 5! => 5 * 4 * 3 * 2 * 1 = 120\n",
    "\n",
    "num = int(input('Enter the number'))\n",
    "fact = 1\n",
    "\n",
    "while num > 1:\n",
    "    fact = fact * num\n",
    "    num -= 1\n",
    "\n",
    "print('factorial:', fact)"
   ]
  },
  {
   "cell_type": "markdown",
   "id": "90de8d3d-2766-4fb8-99c9-3d0947e0f90b",
   "metadata": {},
   "source": [
    "#### infinite loop"
   ]
  },
  {
   "cell_type": "code",
   "execution_count": 30,
   "id": "dc649b61-66f2-47e8-a06a-55e283d56dab",
   "metadata": {},
   "outputs": [],
   "source": [
    "'''num = 10\n",
    "\n",
    "while num > 0:\n",
    "    print(num)\n",
    "    num += 1''';"
   ]
  },
  {
   "cell_type": "code",
   "execution_count": 32,
   "id": "df58851b-8d4b-4040-a52e-bad7f9cd834d",
   "metadata": {},
   "outputs": [],
   "source": [
    "'''while True:\n",
    "    print('a')''';"
   ]
  },
  {
   "cell_type": "markdown",
   "id": "3df56fb0-6107-4f7e-a5ed-82d386dd46e1",
   "metadata": {},
   "source": [
    "#### loop in a single line"
   ]
  },
  {
   "cell_type": "code",
   "execution_count": 35,
   "id": "6e870a61-e1bc-40ee-af0f-3ff07c0926bb",
   "metadata": {},
   "outputs": [
    {
     "name": "stdout",
     "output_type": "stream",
     "text": [
      "1\n",
      "2\n",
      "3\n",
      "4\n",
      "5\n"
     ]
    }
   ],
   "source": [
    "num = 1\n",
    "\n",
    "while num <= 5:\n",
    "    print(num)\n",
    "    num += 1"
   ]
  },
  {
   "cell_type": "code",
   "execution_count": 37,
   "id": "e79f5496-d318-4c35-99b5-c81fa957ea33",
   "metadata": {},
   "outputs": [
    {
     "name": "stdout",
     "output_type": "stream",
     "text": [
      "1\n",
      "2\n",
      "3\n",
      "4\n",
      "5\n"
     ]
    }
   ],
   "source": [
    "num = 1\n",
    "while num <= 5:  print(num); num += 1"
   ]
  },
  {
   "cell_type": "code",
   "execution_count": 39,
   "id": "a670cde7-59c3-48c9-a91f-78873782a7a3",
   "metadata": {},
   "outputs": [],
   "source": [
    "# find the addition of digits of a number\n",
    "\n",
    "# 12345 => 1 + 2 + 3 + 4 + 5 = 15\n",
    "# 10000 => 1"
   ]
  },
  {
   "cell_type": "code",
   "execution_count": 41,
   "id": "9bb447c8-5379-4751-8b8f-84fda3f37c8c",
   "metadata": {},
   "outputs": [
    {
     "data": {
      "text/plain": [
       "5"
      ]
     },
     "execution_count": 41,
     "metadata": {},
     "output_type": "execute_result"
    }
   ],
   "source": [
    "12345 % 10"
   ]
  },
  {
   "cell_type": "code",
   "execution_count": 43,
   "id": "451de02b-2d42-47f6-82fd-9985989246b7",
   "metadata": {},
   "outputs": [
    {
     "data": {
      "text/plain": [
       "1234"
      ]
     },
     "execution_count": 43,
     "metadata": {},
     "output_type": "execute_result"
    }
   ],
   "source": [
    "12345 // 10"
   ]
  },
  {
   "cell_type": "code",
   "execution_count": 47,
   "id": "7ab5d82d-85bf-4086-9a9d-209b177effcf",
   "metadata": {},
   "outputs": [
    {
     "name": "stdin",
     "output_type": "stream",
     "text": [
      "Enter the number 100000000000000000000\n"
     ]
    },
    {
     "name": "stdout",
     "output_type": "stream",
     "text": [
      "Addition of digits is: 1\n"
     ]
    }
   ],
   "source": [
    "num = int(input('Enter the number'))\n",
    "\n",
    "add = 0\n",
    "\n",
    "while num > 0:\n",
    "    rem = num % 10\n",
    "    add = add + rem\n",
    "    num = num // 10\n",
    "\n",
    "print('Addition of digits is:', add)"
   ]
  },
  {
   "cell_type": "markdown",
   "id": "8cd4aa6a-41c4-422f-80af-a83ff1ac9491",
   "metadata": {},
   "source": [
    "# For loop"
   ]
  },
  {
   "cell_type": "code",
   "execution_count": 50,
   "id": "1254fa8e-682c-4893-8166-5f3ab28159ae",
   "metadata": {},
   "outputs": [
    {
     "name": "stdout",
     "output_type": "stream",
     "text": [
      "45\n",
      "78\n",
      "12\n",
      "20\n"
     ]
    }
   ],
   "source": [
    "for n in 45, 78, 12, 20:\n",
    "    print(n)"
   ]
  },
  {
   "cell_type": "code",
   "execution_count": 52,
   "id": "6ec281bd-34e1-4585-b9b5-cb3f38cc7778",
   "metadata": {},
   "outputs": [
    {
     "name": "stdout",
     "output_type": "stream",
     "text": [
      "2025\n",
      "6084\n",
      "144\n",
      "400\n"
     ]
    }
   ],
   "source": [
    "for n in 45, 78, 12, 20:\n",
    "    print(n**2)"
   ]
  },
  {
   "cell_type": "code",
   "execution_count": 54,
   "id": "6f6014d8-b475-482e-9bf2-77be7f6fa2fe",
   "metadata": {},
   "outputs": [
    {
     "name": "stdout",
     "output_type": "stream",
     "text": [
      "45\n",
      "78\n",
      "12\n",
      "20\n",
      "55.66\n",
      "Adi\n",
      "True\n"
     ]
    }
   ],
   "source": [
    "for n in 45, 78, 12, 20, 55.66, 'Adi', True:\n",
    "    print(n)"
   ]
  },
  {
   "cell_type": "code",
   "execution_count": 56,
   "id": "63261115-88d1-4209-b46f-712f55f4232d",
   "metadata": {},
   "outputs": [],
   "source": [
    "# range function"
   ]
  },
  {
   "cell_type": "code",
   "execution_count": 58,
   "id": "e1252c98-d24d-400a-82e8-eb8f6d8dab88",
   "metadata": {},
   "outputs": [
    {
     "data": {
      "text/plain": [
       "[0, 1, 2, 3, 4, 5, 6, 7, 8, 9]"
      ]
     },
     "execution_count": 58,
     "metadata": {},
     "output_type": "execute_result"
    }
   ],
   "source": [
    "list(range(10))"
   ]
  },
  {
   "cell_type": "code",
   "execution_count": 62,
   "id": "c7c20a9d-2beb-4884-a2a6-3a87d9e2e71e",
   "metadata": {},
   "outputs": [
    {
     "data": {
      "text/plain": [
       "[0, 1, 2, 3, 4, 5, 6, 7, 8, 9, 10, 11, 12, 13, 14]"
      ]
     },
     "execution_count": 62,
     "metadata": {},
     "output_type": "execute_result"
    }
   ],
   "source": [
    "list(range(15))"
   ]
  },
  {
   "cell_type": "code",
   "execution_count": 64,
   "id": "342dc114-d85c-41ff-a0dc-2731d3a78d60",
   "metadata": {},
   "outputs": [
    {
     "data": {
      "text/plain": [
       "[5, 6, 7, 8, 9]"
      ]
     },
     "execution_count": 64,
     "metadata": {},
     "output_type": "execute_result"
    }
   ],
   "source": [
    "list(range(5, 10))"
   ]
  },
  {
   "cell_type": "code",
   "execution_count": 66,
   "id": "5c35ba97-9d60-49f5-a18d-63069b607f2d",
   "metadata": {},
   "outputs": [
    {
     "data": {
      "text/plain": [
       "[5, 7, 9]"
      ]
     },
     "execution_count": 66,
     "metadata": {},
     "output_type": "execute_result"
    }
   ],
   "source": [
    "list(range(5, 10, 2))   # start, end + 1, step"
   ]
  },
  {
   "cell_type": "code",
   "execution_count": 68,
   "id": "a0a153f9-5a51-4a31-a6c0-21bea1836120",
   "metadata": {},
   "outputs": [
    {
     "name": "stdout",
     "output_type": "stream",
     "text": [
      "0\n",
      "1\n",
      "2\n",
      "3\n",
      "4\n"
     ]
    }
   ],
   "source": [
    "for n in range(5):\n",
    "    print(n)"
   ]
  },
  {
   "cell_type": "code",
   "execution_count": 70,
   "id": "6386900d-1b78-4f6b-9c20-7ad02a46c5e1",
   "metadata": {},
   "outputs": [
    {
     "name": "stdout",
     "output_type": "stream",
     "text": [
      "1\n",
      "4\n",
      "9\n",
      "16\n",
      "25\n"
     ]
    }
   ],
   "source": [
    "for n in range(1,6):\n",
    "    print(n ** 2)"
   ]
  },
  {
   "cell_type": "code",
   "execution_count": 72,
   "id": "3dca2a84-7c62-42b4-9f9a-dd92467471d3",
   "metadata": {},
   "outputs": [
    {
     "name": "stdout",
     "output_type": "stream",
     "text": [
      "adi adi adi adi adi adi adi adi adi adi "
     ]
    }
   ],
   "source": [
    "# print ur name 10 times using for loop\n",
    "\n",
    "for n in range(10):\n",
    "    print('adi', end = ' ')"
   ]
  },
  {
   "cell_type": "code",
   "execution_count": 74,
   "id": "2c61bee0-0a06-4e17-aeb5-bb8043b978d1",
   "metadata": {},
   "outputs": [
    {
     "name": "stdout",
     "output_type": "stream",
     "text": [
      "55\n"
     ]
    }
   ],
   "source": [
    "# find the addition of numbers from 1 to 10 using for loop\n",
    "\n",
    "add = 0\n",
    "\n",
    "for n in range(1,11):\n",
    "    add = add + n\n",
    "\n",
    "print(add)"
   ]
  },
  {
   "cell_type": "code",
   "execution_count": 76,
   "id": "65c1e8f9-494e-45ba-a90e-b68f7925920c",
   "metadata": {},
   "outputs": [
    {
     "name": "stdout",
     "output_type": "stream",
     "text": [
      "100\n"
     ]
    }
   ],
   "source": [
    "# find the addition of odd numbers from 1 to 20\n",
    "\n",
    "add = 0\n",
    "\n",
    "for n in range(1, 21, 2):\n",
    "    add = add + n\n",
    "\n",
    "print(add)"
   ]
  },
  {
   "cell_type": "code",
   "execution_count": 78,
   "id": "d02ed86e-78f9-43bc-9212-00756f9ee37d",
   "metadata": {},
   "outputs": [
    {
     "name": "stdout",
     "output_type": "stream",
     "text": [
      "AAA\n",
      "ddd\n",
      "iii\n",
      "ttt\n",
      "yyy\n",
      "aaa\n"
     ]
    }
   ],
   "source": [
    "name = 'Aditya'\n",
    "\n",
    "for n in name:\n",
    "    print(n * 3)"
   ]
  },
  {
   "cell_type": "markdown",
   "id": "41565dac-33d6-44a6-bc67-3ea8f3fdd6a3",
   "metadata": {},
   "source": [
    "#### else keyword"
   ]
  },
  {
   "cell_type": "code",
   "execution_count": 83,
   "id": "cba7723d-9c78-4663-a7a8-035aec9d9dbe",
   "metadata": {},
   "outputs": [
    {
     "name": "stdout",
     "output_type": "stream",
     "text": [
      "12 34 56 78 11 loop ended\n"
     ]
    }
   ],
   "source": [
    "num = [12, 34, 56, 78, 11]\n",
    "\n",
    "for n in num:\n",
    "    print(n, end = ' ')\n",
    "else:\n",
    "    print('loop ended')"
   ]
  },
  {
   "cell_type": "code",
   "execution_count": 87,
   "id": "47e32396-e992-4ad7-98c4-d06bea8bd9c5",
   "metadata": {},
   "outputs": [
    {
     "name": "stdin",
     "output_type": "stream",
     "text": [
      "Enter the number 5\n"
     ]
    },
    {
     "name": "stdout",
     "output_type": "stream",
     "text": [
      "Factorial is 120\n"
     ]
    }
   ],
   "source": [
    "# factorial\n",
    "\n",
    "num = int(input('Enter the number'))\n",
    "\n",
    "fact = 1\n",
    "\n",
    "for n in range(1, num + 1):\n",
    "    fact = fact * n\n",
    "\n",
    "print('Factorial is', fact)"
   ]
  },
  {
   "cell_type": "code",
   "execution_count": 89,
   "id": "4eb084d8-35d4-4cf7-91f9-4369b50289be",
   "metadata": {},
   "outputs": [
    {
     "data": {
      "text/plain": [
       "[]"
      ]
     },
     "execution_count": 89,
     "metadata": {},
     "output_type": "execute_result"
    }
   ],
   "source": [
    "list(range(1,6,-1))"
   ]
  },
  {
   "cell_type": "code",
   "execution_count": 91,
   "id": "ea6bcb6d-cb0f-41c1-8db4-924eb1eccd26",
   "metadata": {},
   "outputs": [
    {
     "data": {
      "text/plain": [
       "[6, 5, 4, 3, 2]"
      ]
     },
     "execution_count": 91,
     "metadata": {},
     "output_type": "execute_result"
    }
   ],
   "source": [
    "list(range(6,1,-1))"
   ]
  },
  {
   "cell_type": "markdown",
   "id": "fd09c719-485e-4113-9bad-c56188d42998",
   "metadata": {},
   "source": [
    "#### Loop control statements"
   ]
  },
  {
   "cell_type": "code",
   "execution_count": 96,
   "id": "73e6c9b2-9109-4856-a116-244c13835b29",
   "metadata": {},
   "outputs": [],
   "source": [
    "# break"
   ]
  },
  {
   "cell_type": "code",
   "execution_count": 98,
   "id": "3e932107-0576-4b85-8a92-84f65e543941",
   "metadata": {},
   "outputs": [
    {
     "name": "stdout",
     "output_type": "stream",
     "text": [
      "1\n",
      "2\n",
      "3\n",
      "4\n"
     ]
    }
   ],
   "source": [
    "for n in range(1, 11):\n",
    "    if n == 5:\n",
    "        break\n",
    "    print(n)"
   ]
  },
  {
   "cell_type": "code",
   "execution_count": 100,
   "id": "5cc52432-b3db-4db7-83ef-07b32d397f22",
   "metadata": {},
   "outputs": [
    {
     "name": "stdout",
     "output_type": "stream",
     "text": [
      "1\n",
      "2\n",
      "3\n",
      "4\n",
      "5\n"
     ]
    }
   ],
   "source": [
    "for n in range(1, 11):\n",
    "    print(n)\n",
    "    if n == 5:\n",
    "        break"
   ]
  },
  {
   "cell_type": "code",
   "execution_count": 102,
   "id": "f429e2ce-3603-499d-af4e-177595e7de5c",
   "metadata": {},
   "outputs": [],
   "source": [
    "# continue"
   ]
  },
  {
   "cell_type": "code",
   "execution_count": 104,
   "id": "2142e30c-e311-4bec-a31e-15c8eb802dbc",
   "metadata": {},
   "outputs": [
    {
     "name": "stdout",
     "output_type": "stream",
     "text": [
      "1\n",
      "2\n",
      "3\n",
      "4\n",
      "6\n",
      "7\n",
      "8\n",
      "9\n",
      "10\n"
     ]
    }
   ],
   "source": [
    "for n in range(1,11):\n",
    "    if n == 5:\n",
    "        continue\n",
    "    print(n)"
   ]
  },
  {
   "cell_type": "code",
   "execution_count": 106,
   "id": "7d404810-2b22-4120-ab58-134d7fee0ee5",
   "metadata": {},
   "outputs": [
    {
     "name": "stdout",
     "output_type": "stream",
     "text": [
      "1\n",
      "3\n",
      "5\n",
      "7\n",
      "9\n"
     ]
    }
   ],
   "source": [
    "for n in range(1,11):\n",
    "    if n % 2 == 0:\n",
    "        continue\n",
    "    print(n)"
   ]
  },
  {
   "cell_type": "code",
   "execution_count": 108,
   "id": "7916847f-7318-420f-a9c2-ec5428c7ffae",
   "metadata": {},
   "outputs": [],
   "source": [
    "# pass"
   ]
  },
  {
   "cell_type": "code",
   "execution_count": 112,
   "id": "a71e2797-eef6-4d24-ab9a-3d6db051e345",
   "metadata": {},
   "outputs": [],
   "source": [
    "num = 5\n",
    "\n",
    "if num > 2:\n",
    "    pass"
   ]
  },
  {
   "cell_type": "code",
   "execution_count": null,
   "id": "1c47acae-5aaa-4109-a516-329bb83f1690",
   "metadata": {},
   "outputs": [],
   "source": []
  }
 ],
 "metadata": {
  "kernelspec": {
   "display_name": "Python 3 (ipykernel)",
   "language": "python",
   "name": "python3"
  },
  "language_info": {
   "codemirror_mode": {
    "name": "ipython",
    "version": 3
   },
   "file_extension": ".py",
   "mimetype": "text/x-python",
   "name": "python",
   "nbconvert_exporter": "python",
   "pygments_lexer": "ipython3",
   "version": "3.11.9"
  }
 },
 "nbformat": 4,
 "nbformat_minor": 5
}

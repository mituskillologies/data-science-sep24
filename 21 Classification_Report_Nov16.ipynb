{
 "cells": [
  {
   "cell_type": "code",
   "execution_count": 2,
   "id": "9f3a7ded-b482-44a7-ab13-7ce66386def3",
   "metadata": {},
   "outputs": [],
   "source": [
    "import pandas as pd"
   ]
  },
  {
   "cell_type": "code",
   "execution_count": 4,
   "id": "9c146def-651f-4a2c-9d02-f8b81a0ce25f",
   "metadata": {},
   "outputs": [],
   "source": [
    "actual = ['p', 'n', 'p', 'p', 'n', 'n', 'n', 'p', 'p', 'p']"
   ]
  },
  {
   "cell_type": "code",
   "execution_count": 6,
   "id": "51505cd8-b654-4d11-8284-a7dac3eb5ca9",
   "metadata": {},
   "outputs": [],
   "source": [
    "predicted = ['p', 'p', 'n', 'p', 'n', 'n', 'p', 'p', 'p', 'n']"
   ]
  },
  {
   "cell_type": "code",
   "execution_count": 8,
   "id": "2a31c536-7852-435f-8d5f-4bd219dd88e8",
   "metadata": {},
   "outputs": [
    {
     "data": {
      "text/html": [
       "<div>\n",
       "<style scoped>\n",
       "    .dataframe tbody tr th:only-of-type {\n",
       "        vertical-align: middle;\n",
       "    }\n",
       "\n",
       "    .dataframe tbody tr th {\n",
       "        vertical-align: top;\n",
       "    }\n",
       "\n",
       "    .dataframe thead th {\n",
       "        text-align: right;\n",
       "    }\n",
       "</style>\n",
       "<table border=\"1\" class=\"dataframe\">\n",
       "  <thead>\n",
       "    <tr style=\"text-align: right;\">\n",
       "      <th></th>\n",
       "      <th>actual</th>\n",
       "      <th>predicted</th>\n",
       "    </tr>\n",
       "  </thead>\n",
       "  <tbody>\n",
       "    <tr>\n",
       "      <th>0</th>\n",
       "      <td>p</td>\n",
       "      <td>p</td>\n",
       "    </tr>\n",
       "    <tr>\n",
       "      <th>1</th>\n",
       "      <td>n</td>\n",
       "      <td>p</td>\n",
       "    </tr>\n",
       "    <tr>\n",
       "      <th>2</th>\n",
       "      <td>p</td>\n",
       "      <td>n</td>\n",
       "    </tr>\n",
       "    <tr>\n",
       "      <th>3</th>\n",
       "      <td>p</td>\n",
       "      <td>p</td>\n",
       "    </tr>\n",
       "    <tr>\n",
       "      <th>4</th>\n",
       "      <td>n</td>\n",
       "      <td>n</td>\n",
       "    </tr>\n",
       "    <tr>\n",
       "      <th>5</th>\n",
       "      <td>n</td>\n",
       "      <td>n</td>\n",
       "    </tr>\n",
       "    <tr>\n",
       "      <th>6</th>\n",
       "      <td>n</td>\n",
       "      <td>p</td>\n",
       "    </tr>\n",
       "    <tr>\n",
       "      <th>7</th>\n",
       "      <td>p</td>\n",
       "      <td>p</td>\n",
       "    </tr>\n",
       "    <tr>\n",
       "      <th>8</th>\n",
       "      <td>p</td>\n",
       "      <td>p</td>\n",
       "    </tr>\n",
       "    <tr>\n",
       "      <th>9</th>\n",
       "      <td>p</td>\n",
       "      <td>n</td>\n",
       "    </tr>\n",
       "  </tbody>\n",
       "</table>\n",
       "</div>"
      ],
      "text/plain": [
       "  actual predicted\n",
       "0      p         p\n",
       "1      n         p\n",
       "2      p         n\n",
       "3      p         p\n",
       "4      n         n\n",
       "5      n         n\n",
       "6      n         p\n",
       "7      p         p\n",
       "8      p         p\n",
       "9      p         n"
      ]
     },
     "execution_count": 8,
     "metadata": {},
     "output_type": "execute_result"
    }
   ],
   "source": [
    "pd.DataFrame({\n",
    "    'actual': actual,\n",
    "    'predicted': predicted\n",
    "})"
   ]
  },
  {
   "cell_type": "code",
   "execution_count": 10,
   "id": "7231a770-358c-4d82-8a60-6ff9ecfa5959",
   "metadata": {},
   "outputs": [],
   "source": [
    "# for purchased (p) class"
   ]
  },
  {
   "cell_type": "code",
   "execution_count": 14,
   "id": "b2ec373d-76ae-4d18-93ff-f26884e51992",
   "metadata": {},
   "outputs": [],
   "source": [
    "# precision\n",
    "# out of all the predicted values by the model how many are correct"
   ]
  },
  {
   "cell_type": "code",
   "execution_count": 28,
   "id": "d3cf6ece-ec76-4c30-8f63-fa5b185c44ee",
   "metadata": {},
   "outputs": [],
   "source": [
    "precision = 4/6"
   ]
  },
  {
   "cell_type": "code",
   "execution_count": 20,
   "id": "ef2f612d-d570-4bc7-8d9f-f70825b16787",
   "metadata": {},
   "outputs": [],
   "source": [
    "# recall\n",
    "# out of p values in data (actual) how many model was able to predict"
   ]
  },
  {
   "cell_type": "code",
   "execution_count": 30,
   "id": "57acfcd1-1984-4160-a0fb-a4a2b19f142f",
   "metadata": {},
   "outputs": [],
   "source": [
    "recall = 4/6"
   ]
  },
  {
   "cell_type": "code",
   "execution_count": 26,
   "id": "e7f37c3f-f936-4271-8110-111d1ad1799f",
   "metadata": {},
   "outputs": [],
   "source": [
    "# f1 score\n",
    "# hormonic mean between precision and recall"
   ]
  },
  {
   "cell_type": "code",
   "execution_count": 32,
   "id": "5184d11c-1f5b-49c6-bdbe-c1c304585fdf",
   "metadata": {},
   "outputs": [
    {
     "data": {
      "text/plain": [
       "0.6666666666666666"
      ]
     },
     "execution_count": 32,
     "metadata": {},
     "output_type": "execute_result"
    }
   ],
   "source": [
    "2 * precision * recall / (precision + recall)"
   ]
  },
  {
   "cell_type": "code",
   "execution_count": 34,
   "id": "0b7c7650-f677-476f-9ce3-dca56e4de1c9",
   "metadata": {},
   "outputs": [],
   "source": [
    "# support\n",
    "# actual values in the data"
   ]
  },
  {
   "cell_type": "code",
   "execution_count": 38,
   "id": "cc5585a5-a551-4929-b67d-164cc37d3470",
   "metadata": {},
   "outputs": [],
   "source": [
    "support = 6"
   ]
  },
  {
   "cell_type": "code",
   "execution_count": null,
   "id": "cee83c5c-fdd7-4c50-85f7-971759c5b788",
   "metadata": {},
   "outputs": [],
   "source": []
  }
 ],
 "metadata": {
  "kernelspec": {
   "display_name": "Python 3 (ipykernel)",
   "language": "python",
   "name": "python3"
  },
  "language_info": {
   "codemirror_mode": {
    "name": "ipython",
    "version": 3
   },
   "file_extension": ".py",
   "mimetype": "text/x-python",
   "name": "python",
   "nbconvert_exporter": "python",
   "pygments_lexer": "ipython3",
   "version": "3.11.9"
  }
 },
 "nbformat": 4,
 "nbformat_minor": 5
}
